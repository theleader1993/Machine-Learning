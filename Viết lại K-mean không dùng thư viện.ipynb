{
 "cells": [
  {
   "cell_type": "code",
   "execution_count": 27,
   "id": "996dbdd9",
   "metadata": {},
   "outputs": [
    {
     "name": "stdout",
     "output_type": "stream",
     "text": [
      "<class 'pandas.core.frame.DataFrame'>\n",
      "RangeIndex: 82 entries, 0 to 81\n",
      "Data columns (total 33 columns):\n",
      " #   Column        Non-Null Count  Dtype  \n",
      "---  ------        --------------  -----  \n",
      " 0   player        82 non-null     object \n",
      " 1   pos           82 non-null     object \n",
      " 2   age           82 non-null     int64  \n",
      " 3   bref_team_id  82 non-null     object \n",
      " 4   g             82 non-null     int64  \n",
      " 5   gs            82 non-null     int64  \n",
      " 6   mp            82 non-null     int64  \n",
      " 7   fg            82 non-null     int64  \n",
      " 8   fga           82 non-null     int64  \n",
      " 9   fg.           82 non-null     float64\n",
      " 10  x3p           82 non-null     int64  \n",
      " 11  x3pa          82 non-null     int64  \n",
      " 12  x3p.          82 non-null     float64\n",
      " 13  x2p           82 non-null     int64  \n",
      " 14  x2pa          82 non-null     int64  \n",
      " 15  x2p.          82 non-null     float64\n",
      " 16  efg.          82 non-null     float64\n",
      " 17  ft            82 non-null     int64  \n",
      " 18  fta           82 non-null     int64  \n",
      " 19  ft.           81 non-null     float64\n",
      " 20  orb           82 non-null     int64  \n",
      " 21  drb           82 non-null     int64  \n",
      " 22  trb           82 non-null     int64  \n",
      " 23  ast           82 non-null     int64  \n",
      " 24  stl           82 non-null     int64  \n",
      " 25  blk           82 non-null     int64  \n",
      " 26  tov           82 non-null     int64  \n",
      " 27  pf            82 non-null     int64  \n",
      " 28  pts           82 non-null     int64  \n",
      " 29  season        82 non-null     object \n",
      " 30  season_end    82 non-null     int64  \n",
      " 31  ppg           82 non-null     float64\n",
      " 32  atr           82 non-null     float64\n",
      "dtypes: float64(7), int64(22), object(4)\n",
      "memory usage: 21.3+ KB\n"
     ]
    }
   ],
   "source": [
    "import pandas as pd\n",
    "import numpy as np\n",
    "data = pd.read_csv(\"basketball.csv\")\n",
    "data.info()"
   ]
  },
  {
   "cell_type": "code",
   "execution_count": 28,
   "id": "a4a208fd",
   "metadata": {},
   "outputs": [
    {
     "name": "stdout",
     "output_type": "stream",
     "text": [
      "[45 57 49 79 31]\n"
     ]
    },
    {
     "data": {
      "text/html": [
       "<div>\n",
       "<style scoped>\n",
       "    .dataframe tbody tr th:only-of-type {\n",
       "        vertical-align: middle;\n",
       "    }\n",
       "\n",
       "    .dataframe tbody tr th {\n",
       "        vertical-align: top;\n",
       "    }\n",
       "\n",
       "    .dataframe thead th {\n",
       "        text-align: right;\n",
       "    }\n",
       "</style>\n",
       "<table border=\"1\" class=\"dataframe\">\n",
       "  <thead>\n",
       "    <tr style=\"text-align: right;\">\n",
       "      <th></th>\n",
       "      <th>player</th>\n",
       "      <th>pos</th>\n",
       "      <th>age</th>\n",
       "      <th>bref_team_id</th>\n",
       "      <th>g</th>\n",
       "      <th>gs</th>\n",
       "      <th>mp</th>\n",
       "      <th>fg</th>\n",
       "      <th>fga</th>\n",
       "      <th>fg.</th>\n",
       "      <th>...</th>\n",
       "      <th>ast</th>\n",
       "      <th>stl</th>\n",
       "      <th>blk</th>\n",
       "      <th>tov</th>\n",
       "      <th>pf</th>\n",
       "      <th>pts</th>\n",
       "      <th>season</th>\n",
       "      <th>season_end</th>\n",
       "      <th>ppg</th>\n",
       "      <th>atr</th>\n",
       "    </tr>\n",
       "  </thead>\n",
       "  <tbody>\n",
       "    <tr>\n",
       "      <th>45</th>\n",
       "      <td>Gal Mekel</td>\n",
       "      <td>PG</td>\n",
       "      <td>25</td>\n",
       "      <td>DAL</td>\n",
       "      <td>31</td>\n",
       "      <td>1</td>\n",
       "      <td>292</td>\n",
       "      <td>30</td>\n",
       "      <td>86</td>\n",
       "      <td>0.349</td>\n",
       "      <td>...</td>\n",
       "      <td>63</td>\n",
       "      <td>4</td>\n",
       "      <td>1</td>\n",
       "      <td>31</td>\n",
       "      <td>31</td>\n",
       "      <td>73</td>\n",
       "      <td>2013-2014</td>\n",
       "      <td>2013</td>\n",
       "      <td>2.354839</td>\n",
       "      <td>2.032258</td>\n",
       "    </tr>\n",
       "    <tr>\n",
       "      <th>57</th>\n",
       "      <td>Luke Ridnour</td>\n",
       "      <td>PG</td>\n",
       "      <td>32</td>\n",
       "      <td>TOT</td>\n",
       "      <td>61</td>\n",
       "      <td>14</td>\n",
       "      <td>1141</td>\n",
       "      <td>126</td>\n",
       "      <td>327</td>\n",
       "      <td>0.385</td>\n",
       "      <td>...</td>\n",
       "      <td>176</td>\n",
       "      <td>32</td>\n",
       "      <td>8</td>\n",
       "      <td>66</td>\n",
       "      <td>92</td>\n",
       "      <td>306</td>\n",
       "      <td>2013-2014</td>\n",
       "      <td>2013</td>\n",
       "      <td>5.016393</td>\n",
       "      <td>2.666667</td>\n",
       "    </tr>\n",
       "    <tr>\n",
       "      <th>49</th>\n",
       "      <td>Steve Nash</td>\n",
       "      <td>PG</td>\n",
       "      <td>39</td>\n",
       "      <td>LAL</td>\n",
       "      <td>15</td>\n",
       "      <td>10</td>\n",
       "      <td>313</td>\n",
       "      <td>36</td>\n",
       "      <td>94</td>\n",
       "      <td>0.383</td>\n",
       "      <td>...</td>\n",
       "      <td>86</td>\n",
       "      <td>7</td>\n",
       "      <td>2</td>\n",
       "      <td>31</td>\n",
       "      <td>18</td>\n",
       "      <td>102</td>\n",
       "      <td>2013-2014</td>\n",
       "      <td>2013</td>\n",
       "      <td>6.800000</td>\n",
       "      <td>2.774194</td>\n",
       "    </tr>\n",
       "    <tr>\n",
       "      <th>79</th>\n",
       "      <td>Louis Williams</td>\n",
       "      <td>PG</td>\n",
       "      <td>27</td>\n",
       "      <td>ATL</td>\n",
       "      <td>60</td>\n",
       "      <td>7</td>\n",
       "      <td>1445</td>\n",
       "      <td>197</td>\n",
       "      <td>493</td>\n",
       "      <td>0.400</td>\n",
       "      <td>...</td>\n",
       "      <td>210</td>\n",
       "      <td>45</td>\n",
       "      <td>4</td>\n",
       "      <td>92</td>\n",
       "      <td>65</td>\n",
       "      <td>625</td>\n",
       "      <td>2013-2014</td>\n",
       "      <td>2013</td>\n",
       "      <td>10.416667</td>\n",
       "      <td>2.282609</td>\n",
       "    </tr>\n",
       "    <tr>\n",
       "      <th>31</th>\n",
       "      <td>Mike James</td>\n",
       "      <td>PG</td>\n",
       "      <td>38</td>\n",
       "      <td>CHI</td>\n",
       "      <td>11</td>\n",
       "      <td>0</td>\n",
       "      <td>77</td>\n",
       "      <td>5</td>\n",
       "      <td>21</td>\n",
       "      <td>0.238</td>\n",
       "      <td>...</td>\n",
       "      <td>17</td>\n",
       "      <td>2</td>\n",
       "      <td>0</td>\n",
       "      <td>5</td>\n",
       "      <td>11</td>\n",
       "      <td>11</td>\n",
       "      <td>2013-2014</td>\n",
       "      <td>2013</td>\n",
       "      <td>1.000000</td>\n",
       "      <td>3.400000</td>\n",
       "    </tr>\n",
       "  </tbody>\n",
       "</table>\n",
       "<p>5 rows × 33 columns</p>\n",
       "</div>"
      ],
      "text/plain": [
       "            player pos  age bref_team_id   g  gs    mp   fg  fga    fg.  ...  \\\n",
       "45       Gal Mekel  PG   25          DAL  31   1   292   30   86  0.349  ...   \n",
       "57    Luke Ridnour  PG   32          TOT  61  14  1141  126  327  0.385  ...   \n",
       "49      Steve Nash  PG   39          LAL  15  10   313   36   94  0.383  ...   \n",
       "79  Louis Williams  PG   27          ATL  60   7  1445  197  493  0.400  ...   \n",
       "31      Mike James  PG   38          CHI  11   0    77    5   21  0.238  ...   \n",
       "\n",
       "    ast  stl  blk  tov  pf  pts     season  season_end        ppg       atr  \n",
       "45   63    4    1   31  31   73  2013-2014        2013   2.354839  2.032258  \n",
       "57  176   32    8   66  92  306  2013-2014        2013   5.016393  2.666667  \n",
       "49   86    7    2   31  18  102  2013-2014        2013   6.800000  2.774194  \n",
       "79  210   45    4   92  65  625  2013-2014        2013  10.416667  2.282609  \n",
       "31   17    2    0    5  11   11  2013-2014        2013   1.000000  3.400000  \n",
       "\n",
       "[5 rows x 33 columns]"
      ]
     },
     "execution_count": 28,
     "metadata": {},
     "output_type": "execute_result"
    }
   ],
   "source": [
    "#tạo ra 5 điểm làm center ban đầu bằng cách lấy ngẫy nhiên từ data\n",
    "num_cluster  = 5 \n",
    "random_idx = np.random.choice(data.index, 5)\n",
    "center_df = data.loc[random_idx,:].copy()\n",
    "print(random_idx)\n",
    "center_df"
   ]
  },
  {
   "cell_type": "code",
   "execution_count": 29,
   "id": "97b0303b",
   "metadata": {},
   "outputs": [
    {
     "data": {
      "image/png": "[encoded data removed]",
      "text/plain": [
       "<Figure size 432x288 with 1 Axes>"
      ]
     },
     "metadata": {
      "needs_background": "light"
     },
     "output_type": "display_data"
    }
   ],
   "source": [
    "# vẽ biểu đồ sau khi chọn ngẫu nhiên 5 điểm làm trung tâm ban đầu, và chưa phân cụm data\n",
    "import matplotlib.pyplot as plt\n",
    "plt.scatter(data['ppg'],data['atr'])\n",
    "plt.scatter(center_df['ppg'],center_df['atr'], color = 'red')\n",
    "plt.xlabel('chọn 5 điểm ngẫu nhiên làm center point')\n",
    "plt.show()"
   ]
  },
  {
   "cell_type": "code",
   "execution_count": 30,
   "id": "44b96592",
   "metadata": {},
   "outputs": [
    {
     "data": {
      "text/plain": [
       "{0: [2.3548387096774195, 2.032258064516129],\n",
       " 1: [5.016393442622951, 2.6666666666666665],\n",
       " 2: [6.8, 2.774193548387097],\n",
       " 3: [10.416666666666666, 2.282608695652174],\n",
       " 4: [1.0, 3.4]}"
      ]
     },
     "execution_count": 30,
     "metadata": {},
     "output_type": "execute_result"
    }
   ],
   "source": [
    "def create_dict_center(df_center):\n",
    "    \"\"\"\n",
    "    hàm đưa 5 điểm center vào 1 dict riêng có values là tọa độ điểm (ppg-atr) \n",
    "    và key chính là tên cluster để dùng cho phần sau\n",
    "    \"\"\"\n",
    "    count = 0\n",
    "    dict_center = {}\n",
    "    for idx, row in df_center.iterrows():\n",
    "        coordinates =  [row['ppg'],row['atr']]\n",
    "        dict_center[count]  = coordinates\n",
    "        count += 1   \n",
    "    return dict_center\n",
    "center_dict = create_dict_center(center_df)    \n",
    "center_dict"
   ]
  },
  {
   "cell_type": "code",
   "execution_count": 31,
   "id": "c7dbad8a",
   "metadata": {},
   "outputs": [],
   "source": [
    "def caculated_distance(center_point, player_point):\n",
    "    \n",
    "    \"\"\"\n",
    "    hàm tính khoảng cách euclid = (sum((q1-p1)^2 + ...+ (qn-pn)^2))^0.5\n",
    "    \"\"\"\n",
    "    import math\n",
    "    sum_dis = 0\n",
    "    for i in range(len(center_point)):\n",
    "        distance = center_point[i] - player_point[i]\n",
    "        sum_dis += distance**2\n",
    "    eculid_dis = math.sqrt(sum_dis)\n",
    "    return eculid_dis"
   ]
  },
  {
   "cell_type": "code",
   "execution_count": 32,
   "id": "4ba12034",
   "metadata": {},
   "outputs": [],
   "source": [
    "def excute_cluster(row):\n",
    "    '''\n",
    "    excute_cluster: hàm thực hiện phân cụm\n",
    "    - Input: chỉ nhận 1 dòng của data,\n",
    "    kết hợp với hàm apply bên ngoài hàm sẽ tính vs so sánh đc khoảng cách toàn bộ tập dữ liệu\n",
    "    - Output: return label: 0,1,2,3,4\n",
    "    - từ mỗi điểm quan sát tính 5 khoảng cách tới 5 center_point và so sánh ,\n",
    "    => điểm quan sát sẽ thuộc cluster mà khoảng cách từ điểm đó đến center_point ngắn nhất.\n",
    "    '''\n",
    "    lowest_dis = None\n",
    "    cluster_id = None\n",
    "    play_pts = [row['ppg'], row['atr']]\n",
    "    \n",
    "    for keys, values in center_dict.items():\n",
    "        distance = caculated_distance(values, play_pts)\n",
    "        \n",
    "        if lowest_dis == None:\n",
    "            cluster_id = keys\n",
    "            lowest_dis = distance\n",
    "            \n",
    "        elif distance < lowest_dis:\n",
    "            lowest_dis = distance\n",
    "            cluster_id = keys           \n",
    "    return cluster_id\n",
    "         \n",
    "data['cluster'] = data.apply(lambda row: excute_cluster(row)  , axis = 1)"
   ]
  },
  {
   "cell_type": "code",
   "execution_count": 33,
   "id": "4fa4cce6",
   "metadata": {},
   "outputs": [
    {
     "data": {
      "image/png": "[encoded data removed]",
      "text/plain": [
       "<Figure size 432x288 with 1 Axes>"
      ]
     },
     "metadata": {
      "needs_background": "light"
     },
     "output_type": "display_data"
    }
   ],
   "source": [
    "#visualize data khi đã phân cụm ( nhưng chưa update center point)\n",
    "unique_cluster = data['cluster'].unique()\n",
    "unique_cluster\n",
    "for i in unique_cluster:\n",
    "    df_temp = data[data['cluster']==i]\n",
    "    plt.scatter(df_temp['ppg'],df_temp['atr'])\n",
    "plt.xlabel('Khi đã phân cụm nhưng chưa update center point')    \n",
    "plt.show()"
   ]
  },
  {
   "cell_type": "code",
   "execution_count": 34,
   "id": "4720a776",
   "metadata": {},
   "outputs": [],
   "source": [
    "def update_center_point(df):\n",
    "    '''\n",
    "    hàm update lại center point\n",
    "    input: dict center \n",
    "    output: dict mới với values là các điểm có giá trị trung bình trong tập đã cluster\n",
    "    '''\n",
    "    dict_update = dict()\n",
    "    for i in range(0, num_cluster):\n",
    "        filter_df = df[df['cluster'] == i].copy()\n",
    "        dict_update[i] = [np.mean(filter_df['ppg']), np.mean(filter_df['atr']) ]\n",
    "                                  \n",
    "    return dict_update"
   ]
  },
  {
   "cell_type": "markdown",
   "id": "01f55e32",
   "metadata": {},
   "source": [
    "# Code Full"
   ]
  },
  {
   "cell_type": "code",
   "execution_count": 37,
   "id": "6975341e",
   "metadata": {},
   "outputs": [
    {
     "name": "stdout",
     "output_type": "stream",
     "text": [
      "vẽ biểu đồ sau khi chọn ngẫu nhiên 5 điểm làm trung tâm ban đầu, và chưa phân cụm data: \n"
     ]
    },
    {
     "data": {
      "image/png": "[encoded data removed]",
      "text/plain": [
       "<Figure size 432x288 with 1 Axes>"
      ]
     },
     "metadata": {
      "needs_background": "light"
     },
     "output_type": "display_data"
    },
    {
     "data": {
      "image/png": "[encoded data removed]",
      "text/plain": [
       "<Figure size 432x288 with 1 Axes>"
      ]
     },
     "metadata": {
      "needs_background": "light"
     },
     "output_type": "display_data"
    },
    {
     "data": {
      "image/png": "[encoded data removed]",
      "text/plain": [
       "<Figure size 432x288 with 1 Axes>"
      ]
     },
     "metadata": {
      "needs_background": "light"
     },
     "output_type": "display_data"
    },
    {
     "data": {
      "image/png": "[encoded data removed]",
      "text/plain": [
       "<Figure size 432x288 with 1 Axes>"
      ]
     },
     "metadata": {
      "needs_background": "light"
     },
     "output_type": "display_data"
    },
    {
     "data": {
      "image/png": "[encoded data removed]",
      "text/plain": [
       "<Figure size 432x288 with 1 Axes>"
      ]
     },
     "metadata": {
      "needs_background": "light"
     },
     "output_type": "display_data"
    },
    {
     "data": {
      "image/png": "[encoded data removed]",
      "text/plain": [
       "<Figure size 432x288 with 1 Axes>"
      ]
     },
     "metadata": {
      "needs_background": "light"
     },
     "output_type": "display_data"
    },
    {
     "data": {
      "image/png": "[encoded data removed]",
      "text/plain": [
       "<Figure size 432x288 with 1 Axes>"
      ]
     },
     "metadata": {
      "needs_background": "light"
     },
     "output_type": "display_data"
    }
   ],
   "source": [
    "import pandas as pd\n",
    "import numpy as np\n",
    "data = pd.read_csv(\"basketball.csv\")\n",
    "num_cluster  = 5 \n",
    "random_idx = np.random.choice(data.index, 5)\n",
    "center_df = data.loc[random_idx,:].copy()\n",
    "\n",
    "print('vẽ biểu đồ sau khi chọn ngẫu nhiên 5 điểm làm trung tâm ban đầu, và chưa phân cụm data: ')\n",
    "import matplotlib.pyplot as plt\n",
    "plt.scatter(data['ppg'],data['atr'])\n",
    "plt.scatter(center_df['ppg'],center_df['atr'], color = 'red')\n",
    "plt.xlabel('chọn 5 điểm ngẫu nhiên làm center point')\n",
    "plt.show()\n",
    "\n",
    "def create_dict_center(df_center):\n",
    "    \"\"\"\n",
    "    hàm đưa 5 điểm center vào 1 dict riêng có values là tọa độ điểm (ppg-atr) \n",
    "    và key chính là tên cluster để dùng cho phần sau\n",
    "    \"\"\"\n",
    "    count = 0\n",
    "    dict_center = {}\n",
    "    for idx, row in df_center.iterrows():\n",
    "        coordinates =  [row['ppg'],row['atr']]\n",
    "        dict_center[count]  = coordinates\n",
    "        count += 1   \n",
    "    return dict_center\n",
    "  \n",
    "def caculated_distance(center_point, player_point):\n",
    "    \n",
    "    \"\"\"\n",
    "    hàm tính khoảng cách euclid = (sum((q1-p1)^2 + ...+ (qn-pn)^2))^0.5\n",
    "    \"\"\"\n",
    "    import math\n",
    "    sum_dis = 0\n",
    "    for i in range(len(center_point)):\n",
    "        distance = center_point[i] - player_point[i]\n",
    "        sum_dis += distance**2\n",
    "    eculid_dis = math.sqrt(sum_dis)\n",
    "    return eculid_dis\n",
    "\n",
    "def excute_cluster(row):\n",
    "    '''\n",
    "    excute_cluster: hàm thực hiện phân cụm\n",
    "    - Input: chỉ nhận 1 dòng của data,\n",
    "    kết hợp với hàm apply bên ngoài hàm sẽ tính vs so sánh đc khoảng cách toàn bộ tập dữ liệu\n",
    "    - Output: return label: 0,1,2,3,4\n",
    "    - từ mỗi điểm quan sát tính 5 khoảng cách tới 5 center_point và so sánh ,\n",
    "    => điểm quan sát sẽ thuộc cluster mà khoảng cách từ điểm đó đến center_point ngắn nhất.\n",
    "    '''\n",
    "    lowest_dis = None\n",
    "    cluster_id = None\n",
    "    play_pts = [row['ppg'], row['atr']]\n",
    "    \n",
    "    for keys, values in center_dict.items():\n",
    "        distance = caculated_distance(values, play_pts)\n",
    "        \n",
    "        if lowest_dis == None:\n",
    "            cluster_id = keys\n",
    "            lowest_dis = distance\n",
    "            \n",
    "        elif distance < lowest_dis:\n",
    "            lowest_dis = distance\n",
    "            cluster_id = keys           \n",
    "    return cluster_id\n",
    "    \n",
    "def update_center_point(df):\n",
    "    '''\n",
    "    hàm update lại center point\n",
    "    input: dict center \n",
    "    output: dict mới với values là các điểm có giá trị trung bình trong tập đã cluster\n",
    "    '''\n",
    "    dict_update = dict()\n",
    "    for i in range(0, num_cluster):\n",
    "        filter_df = df[df['cluster'] == i].copy()\n",
    "        dict_update[i] = [np.mean(filter_df['ppg']), np.mean(filter_df['atr']) ]\n",
    "                                  \n",
    "    return dict_update\n",
    "\n",
    "\n",
    "center_dict = create_dict_center(center_df)  \n",
    "data['cluster'] = data.apply(lambda row: excute_cluster(row)  , axis = 1)\n",
    "#visualize data khi đã phân cụm ( nhưng chưa update center point)\n",
    "unique_cluster = data['cluster'].unique()\n",
    "unique_cluster\n",
    "for i in unique_cluster:\n",
    "    df_temp = data[data['cluster']==i]\n",
    "    plt.scatter(df_temp['ppg'],df_temp['atr'])\n",
    "plt.xlabel('Khi đã phân cụm nhưng chưa update center point')    \n",
    "plt.show()\n",
    "\n",
    "for i in range(5):\n",
    "    center_dict = update_center_point(data)\n",
    "    data['cluster'] = data.apply(lambda row: excute_cluster(row)  , axis = 1)\n",
    "    unique_cluster = data['cluster'].unique()\n",
    "    for k in unique_cluster:\n",
    "        df_temp = data[data['cluster']==k]\n",
    "        plt.scatter(df_temp['ppg'],df_temp['atr'])\n",
    "    plt.xlabel(f'cluster lượt: {i+1}',)    \n",
    "    plt.show()"
   ]
  },
  {
   "cell_type": "code",
   "execution_count": null,
   "id": "f508f09c",
   "metadata": {},
   "outputs": [],
   "source": []
  }
 ],
 "metadata": {
  "kernelspec": {
   "display_name": "Python 3 (ipykernel)",
   "language": "python",
   "name": "python3"
  },
  "language_info": {
   "codemirror_mode": {
    "name": "ipython",
    "version": 3
   },
   "file_extension": ".py",
   "mimetype": "text/x-python",
   "name": "python",
   "nbconvert_exporter": "python",
   "pygments_lexer": "ipython3",
   "version": "3.9.7"
  }
 },
 "nbformat": 4,
 "nbformat_minor": 5
}
