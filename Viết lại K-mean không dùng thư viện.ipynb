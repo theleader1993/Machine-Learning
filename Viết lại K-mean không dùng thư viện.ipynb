{
 "cells": [
  {
   "cell_type": "code",
   "execution_count": 39,
   "id": "996dbdd9",
   "metadata": {},
   "outputs": [
    {
     "data": {
      "text/html": [
       "<div>\n",
       "<style scoped>\n",
       "    .dataframe tbody tr th:only-of-type {\n",
       "        vertical-align: middle;\n",
       "    }\n",
       "\n",
       "    .dataframe tbody tr th {\n",
       "        vertical-align: top;\n",
       "    }\n",
       "\n",
       "    .dataframe thead th {\n",
       "        text-align: right;\n",
       "    }\n",
       "</style>\n",
       "<table border=\"1\" class=\"dataframe\">\n",
       "  <thead>\n",
       "    <tr style=\"text-align: right;\">\n",
       "      <th></th>\n",
       "      <th>player</th>\n",
       "      <th>pos</th>\n",
       "      <th>age</th>\n",
       "      <th>bref_team_id</th>\n",
       "      <th>g</th>\n",
       "      <th>gs</th>\n",
       "      <th>mp</th>\n",
       "      <th>fg</th>\n",
       "      <th>fga</th>\n",
       "      <th>fg.</th>\n",
       "      <th>...</th>\n",
       "      <th>ast</th>\n",
       "      <th>stl</th>\n",
       "      <th>blk</th>\n",
       "      <th>tov</th>\n",
       "      <th>pf</th>\n",
       "      <th>pts</th>\n",
       "      <th>season</th>\n",
       "      <th>season_end</th>\n",
       "      <th>ppg</th>\n",
       "      <th>atr</th>\n",
       "    </tr>\n",
       "  </thead>\n",
       "  <tbody>\n",
       "    <tr>\n",
       "      <th>0</th>\n",
       "      <td>D.J. Augustin</td>\n",
       "      <td>PG</td>\n",
       "      <td>26</td>\n",
       "      <td>TOT</td>\n",
       "      <td>71</td>\n",
       "      <td>9</td>\n",
       "      <td>1939</td>\n",
       "      <td>298</td>\n",
       "      <td>718</td>\n",
       "      <td>0.415</td>\n",
       "      <td>...</td>\n",
       "      <td>313</td>\n",
       "      <td>53</td>\n",
       "      <td>3</td>\n",
       "      <td>125</td>\n",
       "      <td>147</td>\n",
       "      <td>930</td>\n",
       "      <td>2013-2014</td>\n",
       "      <td>2013</td>\n",
       "      <td>13.098592</td>\n",
       "      <td>2.504000</td>\n",
       "    </tr>\n",
       "    <tr>\n",
       "      <th>1</th>\n",
       "      <td>Leandro Barbosa</td>\n",
       "      <td>PG</td>\n",
       "      <td>31</td>\n",
       "      <td>PHO</td>\n",
       "      <td>20</td>\n",
       "      <td>0</td>\n",
       "      <td>368</td>\n",
       "      <td>56</td>\n",
       "      <td>131</td>\n",
       "      <td>0.427</td>\n",
       "      <td>...</td>\n",
       "      <td>32</td>\n",
       "      <td>7</td>\n",
       "      <td>4</td>\n",
       "      <td>19</td>\n",
       "      <td>30</td>\n",
       "      <td>150</td>\n",
       "      <td>2013-2014</td>\n",
       "      <td>2013</td>\n",
       "      <td>7.500000</td>\n",
       "      <td>1.684211</td>\n",
       "    </tr>\n",
       "    <tr>\n",
       "      <th>2</th>\n",
       "      <td>Jose Barea</td>\n",
       "      <td>PG</td>\n",
       "      <td>29</td>\n",
       "      <td>MIN</td>\n",
       "      <td>79</td>\n",
       "      <td>1</td>\n",
       "      <td>1471</td>\n",
       "      <td>254</td>\n",
       "      <td>656</td>\n",
       "      <td>0.387</td>\n",
       "      <td>...</td>\n",
       "      <td>303</td>\n",
       "      <td>26</td>\n",
       "      <td>0</td>\n",
       "      <td>125</td>\n",
       "      <td>129</td>\n",
       "      <td>660</td>\n",
       "      <td>2013-2014</td>\n",
       "      <td>2013</td>\n",
       "      <td>8.354430</td>\n",
       "      <td>2.424000</td>\n",
       "    </tr>\n",
       "    <tr>\n",
       "      <th>3</th>\n",
       "      <td>Jerryd Bayless</td>\n",
       "      <td>PG</td>\n",
       "      <td>25</td>\n",
       "      <td>TOT</td>\n",
       "      <td>72</td>\n",
       "      <td>19</td>\n",
       "      <td>1686</td>\n",
       "      <td>248</td>\n",
       "      <td>617</td>\n",
       "      <td>0.402</td>\n",
       "      <td>...</td>\n",
       "      <td>194</td>\n",
       "      <td>60</td>\n",
       "      <td>9</td>\n",
       "      <td>82</td>\n",
       "      <td>161</td>\n",
       "      <td>666</td>\n",
       "      <td>2013-2014</td>\n",
       "      <td>2013</td>\n",
       "      <td>9.250000</td>\n",
       "      <td>2.365854</td>\n",
       "    </tr>\n",
       "    <tr>\n",
       "      <th>4</th>\n",
       "      <td>Steve Blake</td>\n",
       "      <td>PG</td>\n",
       "      <td>33</td>\n",
       "      <td>TOT</td>\n",
       "      <td>55</td>\n",
       "      <td>28</td>\n",
       "      <td>1498</td>\n",
       "      <td>133</td>\n",
       "      <td>353</td>\n",
       "      <td>0.377</td>\n",
       "      <td>...</td>\n",
       "      <td>307</td>\n",
       "      <td>54</td>\n",
       "      <td>8</td>\n",
       "      <td>102</td>\n",
       "      <td>85</td>\n",
       "      <td>378</td>\n",
       "      <td>2013-2014</td>\n",
       "      <td>2013</td>\n",
       "      <td>6.872727</td>\n",
       "      <td>3.009804</td>\n",
       "    </tr>\n",
       "  </tbody>\n",
       "</table>\n",
       "<p>5 rows × 33 columns</p>\n",
       "</div>"
      ],
      "text/plain": [
       "            player pos  age bref_team_id   g  gs    mp   fg  fga    fg.  ...  \\\n",
       "0    D.J. Augustin  PG   26          TOT  71   9  1939  298  718  0.415  ...   \n",
       "1  Leandro Barbosa  PG   31          PHO  20   0   368   56  131  0.427  ...   \n",
       "2       Jose Barea  PG   29          MIN  79   1  1471  254  656  0.387  ...   \n",
       "3   Jerryd Bayless  PG   25          TOT  72  19  1686  248  617  0.402  ...   \n",
       "4      Steve Blake  PG   33          TOT  55  28  1498  133  353  0.377  ...   \n",
       "\n",
       "   ast  stl  blk  tov   pf  pts     season  season_end        ppg       atr  \n",
       "0  313   53    3  125  147  930  2013-2014        2013  13.098592  2.504000  \n",
       "1   32    7    4   19   30  150  2013-2014        2013   7.500000  1.684211  \n",
       "2  303   26    0  125  129  660  2013-2014        2013   8.354430  2.424000  \n",
       "3  194   60    9   82  161  666  2013-2014        2013   9.250000  2.365854  \n",
       "4  307   54    8  102   85  378  2013-2014        2013   6.872727  3.009804  \n",
       "\n",
       "[5 rows x 33 columns]"
      ]
     },
     "execution_count": 39,
     "metadata": {},
     "output_type": "execute_result"
    }
   ],
   "source": [
    "import pandas as pd\n",
    "import numpy as np\n",
    "data = pd.read_csv(\"basketball.csv\")\n",
    "data.head()"
   ]
  },
  {
   "cell_type": "markdown",
   "id": "0bc18bb5",
   "metadata": {},
   "source": [
    "- Data basketball bao gồm các thông số kỹ thuật của các cầu thủ bóng rổ nhà nghề Mỹ\n",
    "- Có 2 thông số quan trọng nhất là 'ppg' số điểm kiếm được trên mỗi trận và 'atr' là 'Assist Turnover Ratio' tỉ lệ hỗ trợ\n",
    "- Yêu cầu : Dựa vào 2 features đó hãy cluster data thành 5 nhóm cầu thủ loại 0 -> 4"
   ]
  },
  {
   "cell_type": "code",
   "execution_count": 40,
   "id": "a4a208fd",
   "metadata": {},
   "outputs": [
    {
     "name": "stdout",
     "output_type": "stream",
     "text": [
      "[41 78  7 53 18]\n"
     ]
    },
    {
     "data": {
      "text/html": [
       "<div>\n",
       "<style scoped>\n",
       "    .dataframe tbody tr th:only-of-type {\n",
       "        vertical-align: middle;\n",
       "    }\n",
       "\n",
       "    .dataframe tbody tr th {\n",
       "        vertical-align: top;\n",
       "    }\n",
       "\n",
       "    .dataframe thead th {\n",
       "        text-align: right;\n",
       "    }\n",
       "</style>\n",
       "<table border=\"1\" class=\"dataframe\">\n",
       "  <thead>\n",
       "    <tr style=\"text-align: right;\">\n",
       "      <th></th>\n",
       "      <th>player</th>\n",
       "      <th>pos</th>\n",
       "      <th>age</th>\n",
       "      <th>bref_team_id</th>\n",
       "      <th>g</th>\n",
       "      <th>gs</th>\n",
       "      <th>mp</th>\n",
       "      <th>fg</th>\n",
       "      <th>fga</th>\n",
       "      <th>fg.</th>\n",
       "      <th>...</th>\n",
       "      <th>ast</th>\n",
       "      <th>stl</th>\n",
       "      <th>blk</th>\n",
       "      <th>tov</th>\n",
       "      <th>pf</th>\n",
       "      <th>pts</th>\n",
       "      <th>season</th>\n",
       "      <th>season_end</th>\n",
       "      <th>ppg</th>\n",
       "      <th>atr</th>\n",
       "    </tr>\n",
       "  </thead>\n",
       "  <tbody>\n",
       "    <tr>\n",
       "      <th>41</th>\n",
       "      <td>Shelvin Mack</td>\n",
       "      <td>PG</td>\n",
       "      <td>23</td>\n",
       "      <td>ATL</td>\n",
       "      <td>73</td>\n",
       "      <td>11</td>\n",
       "      <td>1490</td>\n",
       "      <td>209</td>\n",
       "      <td>501</td>\n",
       "      <td>0.417</td>\n",
       "      <td>...</td>\n",
       "      <td>271</td>\n",
       "      <td>50</td>\n",
       "      <td>2</td>\n",
       "      <td>89</td>\n",
       "      <td>100</td>\n",
       "      <td>544</td>\n",
       "      <td>2013-2014</td>\n",
       "      <td>2013</td>\n",
       "      <td>7.452055</td>\n",
       "      <td>3.044944</td>\n",
       "    </tr>\n",
       "    <tr>\n",
       "      <th>78</th>\n",
       "      <td>Deron Williams</td>\n",
       "      <td>PG</td>\n",
       "      <td>29</td>\n",
       "      <td>BRK</td>\n",
       "      <td>64</td>\n",
       "      <td>58</td>\n",
       "      <td>2059</td>\n",
       "      <td>322</td>\n",
       "      <td>716</td>\n",
       "      <td>0.450</td>\n",
       "      <td>...</td>\n",
       "      <td>392</td>\n",
       "      <td>93</td>\n",
       "      <td>13</td>\n",
       "      <td>143</td>\n",
       "      <td>148</td>\n",
       "      <td>915</td>\n",
       "      <td>2013-2014</td>\n",
       "      <td>2013</td>\n",
       "      <td>14.296875</td>\n",
       "      <td>2.741259</td>\n",
       "    </tr>\n",
       "    <tr>\n",
       "      <th>7</th>\n",
       "      <td>Aaron Brooks</td>\n",
       "      <td>PG</td>\n",
       "      <td>29</td>\n",
       "      <td>TOT</td>\n",
       "      <td>72</td>\n",
       "      <td>12</td>\n",
       "      <td>1557</td>\n",
       "      <td>233</td>\n",
       "      <td>581</td>\n",
       "      <td>0.401</td>\n",
       "      <td>...</td>\n",
       "      <td>233</td>\n",
       "      <td>52</td>\n",
       "      <td>13</td>\n",
       "      <td>117</td>\n",
       "      <td>146</td>\n",
       "      <td>645</td>\n",
       "      <td>2013-2014</td>\n",
       "      <td>2013</td>\n",
       "      <td>8.958333</td>\n",
       "      <td>1.991453</td>\n",
       "    </tr>\n",
       "    <tr>\n",
       "      <th>53</th>\n",
       "      <td>Tony Parker</td>\n",
       "      <td>PG</td>\n",
       "      <td>31</td>\n",
       "      <td>SAS</td>\n",
       "      <td>68</td>\n",
       "      <td>68</td>\n",
       "      <td>1997</td>\n",
       "      <td>456</td>\n",
       "      <td>914</td>\n",
       "      <td>0.499</td>\n",
       "      <td>...</td>\n",
       "      <td>388</td>\n",
       "      <td>36</td>\n",
       "      <td>9</td>\n",
       "      <td>151</td>\n",
       "      <td>86</td>\n",
       "      <td>1134</td>\n",
       "      <td>2013-2014</td>\n",
       "      <td>2013</td>\n",
       "      <td>16.676471</td>\n",
       "      <td>2.569536</td>\n",
       "    </tr>\n",
       "    <tr>\n",
       "      <th>18</th>\n",
       "      <td>Toney Douglas</td>\n",
       "      <td>PG</td>\n",
       "      <td>27</td>\n",
       "      <td>TOT</td>\n",
       "      <td>51</td>\n",
       "      <td>17</td>\n",
       "      <td>675</td>\n",
       "      <td>73</td>\n",
       "      <td>190</td>\n",
       "      <td>0.384</td>\n",
       "      <td>...</td>\n",
       "      <td>68</td>\n",
       "      <td>19</td>\n",
       "      <td>5</td>\n",
       "      <td>34</td>\n",
       "      <td>81</td>\n",
       "      <td>202</td>\n",
       "      <td>2013-2014</td>\n",
       "      <td>2013</td>\n",
       "      <td>3.960784</td>\n",
       "      <td>2.000000</td>\n",
       "    </tr>\n",
       "  </tbody>\n",
       "</table>\n",
       "<p>5 rows × 33 columns</p>\n",
       "</div>"
      ],
      "text/plain": [
       "            player pos  age bref_team_id   g  gs    mp   fg  fga    fg.  ...  \\\n",
       "41    Shelvin Mack  PG   23          ATL  73  11  1490  209  501  0.417  ...   \n",
       "78  Deron Williams  PG   29          BRK  64  58  2059  322  716  0.450  ...   \n",
       "7     Aaron Brooks  PG   29          TOT  72  12  1557  233  581  0.401  ...   \n",
       "53     Tony Parker  PG   31          SAS  68  68  1997  456  914  0.499  ...   \n",
       "18   Toney Douglas  PG   27          TOT  51  17   675   73  190  0.384  ...   \n",
       "\n",
       "    ast  stl  blk  tov   pf   pts     season  season_end        ppg       atr  \n",
       "41  271   50    2   89  100   544  2013-2014        2013   7.452055  3.044944  \n",
       "78  392   93   13  143  148   915  2013-2014        2013  14.296875  2.741259  \n",
       "7   233   52   13  117  146   645  2013-2014        2013   8.958333  1.991453  \n",
       "53  388   36    9  151   86  1134  2013-2014        2013  16.676471  2.569536  \n",
       "18   68   19    5   34   81   202  2013-2014        2013   3.960784  2.000000  \n",
       "\n",
       "[5 rows x 33 columns]"
      ]
     },
     "execution_count": 40,
     "metadata": {},
     "output_type": "execute_result"
    }
   ],
   "source": [
    "#tạo ra 5 điểm làm center ban đầu bằng cách lấy ngẫy nhiên từ data\n",
    "num_cluster  = 5 \n",
    "random_idx = np.random.choice(data.index, 5)\n",
    "center_df = data.loc[random_idx,:].copy()\n",
    "print(random_idx)\n",
    "center_df"
   ]
  },
  {
   "cell_type": "code",
   "execution_count": 41,
   "id": "97b0303b",
   "metadata": {},
   "outputs": [
    {
     "data": {
      "image/png": "[encoded data removed]",
      "text/plain": [
       "<Figure size 432x288 with 1 Axes>"
      ]
     },
     "metadata": {
      "needs_background": "light"
     },
     "output_type": "display_data"
    }
   ],
   "source": [
    "# vẽ biểu đồ sau khi chọn ngẫu nhiên 5 điểm làm trung tâm ban đầu, và chưa phân cụm data\n",
    "import matplotlib.pyplot as plt\n",
    "plt.scatter(data['ppg'],data['atr'])\n",
    "plt.scatter(center_df['ppg'],center_df['atr'], color = 'red')\n",
    "plt.xlabel('chọn 5 điểm ngẫu nhiên làm center point')\n",
    "plt.show()"
   ]
  },
  {
   "cell_type": "code",
   "execution_count": 42,
   "id": "44b96592",
   "metadata": {},
   "outputs": [
    {
     "data": {
      "text/plain": [
       "{0: [7.4520547945205475, 3.044943820224719],\n",
       " 1: [14.296875, 2.741258741258741],\n",
       " 2: [8.958333333333334, 1.9914529914529917],\n",
       " 3: [16.676470588235293, 2.5695364238410594],\n",
       " 4: [3.9607843137254894, 2.0]}"
      ]
     },
     "execution_count": 42,
     "metadata": {},
     "output_type": "execute_result"
    }
   ],
   "source": [
    "def create_dict_center(df_center):\n",
    "    \"\"\"\n",
    "    hàm đưa 5 điểm center vào 1 dict riêng có values là tọa độ điểm (ppg-atr) \n",
    "    và key chính là tên cluster để dùng cho phần sau\n",
    "    \"\"\"\n",
    "    count = 0\n",
    "    dict_center = {}\n",
    "    for idx, row in df_center.iterrows():\n",
    "        coordinates =  [row['ppg'],row['atr']]\n",
    "        dict_center[count]  = coordinates\n",
    "        count += 1   \n",
    "    return dict_center\n",
    "center_dict = create_dict_center(center_df)    \n",
    "center_dict"
   ]
  },
  {
   "cell_type": "code",
   "execution_count": 43,
   "id": "c7dbad8a",
   "metadata": {},
   "outputs": [],
   "source": [
    "def caculated_distance(center_point, player_point):\n",
    "    \n",
    "    \"\"\"\n",
    "    hàm tính khoảng cách euclid = (sum((q1-p1)^2 + ...+ (qn-pn)^2))^0.5\n",
    "    \"\"\"\n",
    "    import math\n",
    "    sum_dis = 0\n",
    "    for i in range(len(center_point)):\n",
    "        distance = center_point[i] - player_point[i]\n",
    "        sum_dis += distance**2\n",
    "    eculid_dis = math.sqrt(sum_dis)\n",
    "    return eculid_dis"
   ]
  },
  {
   "cell_type": "code",
   "execution_count": 44,
   "id": "4ba12034",
   "metadata": {},
   "outputs": [],
   "source": [
    "def excute_cluster(row):\n",
    "    '''\n",
    "    excute_cluster: hàm thực hiện phân cụm\n",
    "    - Input: chỉ nhận 1 dòng của data,\n",
    "    kết hợp với hàm apply bên ngoài hàm sẽ tính vs so sánh đc khoảng cách toàn bộ tập dữ liệu\n",
    "    - Output: return label: 0,1,2,3,4\n",
    "    - từ mỗi điểm quan sát tính 5 khoảng cách tới 5 center_point và so sánh ,\n",
    "    => điểm quan sát sẽ thuộc cluster mà khoảng cách từ điểm đó đến center_point ngắn nhất.\n",
    "    '''\n",
    "    lowest_dis = None\n",
    "    cluster_id = None\n",
    "    play_pts = [row['ppg'], row['atr']]\n",
    "    \n",
    "    for keys, values in center_dict.items():\n",
    "        distance = caculated_distance(values, play_pts)\n",
    "        \n",
    "        if lowest_dis == None:\n",
    "            cluster_id = keys\n",
    "            lowest_dis = distance\n",
    "            \n",
    "        elif distance < lowest_dis:\n",
    "            lowest_dis = distance\n",
    "            cluster_id = keys           \n",
    "    return cluster_id\n",
    "         \n",
    "data['cluster'] = data.apply(lambda row: excute_cluster(row)  , axis = 1)"
   ]
  },
  {
   "cell_type": "code",
   "execution_count": 45,
   "id": "4fa4cce6",
   "metadata": {},
   "outputs": [
    {
     "data": {
      "image/png": "[encoded data removed]",
      "text/plain": [
       "<Figure size 432x288 with 1 Axes>"
      ]
     },
     "metadata": {
      "needs_background": "light"
     },
     "output_type": "display_data"
    }
   ],
   "source": [
    "#visualize data khi đã phân cụm ( nhưng chưa update center point)\n",
    "unique_cluster = data['cluster'].unique()\n",
    "unique_cluster\n",
    "for i in unique_cluster:\n",
    "    df_temp = data[data['cluster']==i]\n",
    "    plt.scatter(df_temp['ppg'],df_temp['atr'])\n",
    "plt.xlabel('Khi đã phân cụm nhưng chưa update center point')    \n",
    "plt.show()"
   ]
  },
  {
   "cell_type": "code",
   "execution_count": 46,
   "id": "4720a776",
   "metadata": {},
   "outputs": [],
   "source": [
    "def update_center_point(df):\n",
    "    '''\n",
    "    hàm update lại center point\n",
    "    input: dict center \n",
    "    output: dict mới với values là các điểm có giá trị trung bình trong tập đã cluster\n",
    "    '''\n",
    "    dict_update = dict()\n",
    "    for i in range(0, num_cluster):\n",
    "        filter_df = df[df['cluster'] == i].copy()\n",
    "        dict_update[i] = [np.mean(filter_df['ppg']), np.mean(filter_df['atr']) ]\n",
    "                                  \n",
    "    return dict_update"
   ]
  },
  {
   "cell_type": "markdown",
   "id": "ee60cc23",
   "metadata": {},
   "source": [
    "# Code Full"
   ]
  },
  {
   "cell_type": "code",
   "execution_count": 48,
   "id": "6975341e",
   "metadata": {},
   "outputs": [
    {
     "name": "stdout",
     "output_type": "stream",
     "text": [
      "vẽ biểu đồ sau khi chọn ngẫu nhiên 5 điểm làm trung tâm ban đầu, và chưa phân cụm data: \n"
     ]
    },
    {
     "data": {
      "image/png": "[encoded data removed]",
      "text/plain": [
       "<Figure size 432x288 with 1 Axes>"
      ]
     },
     "metadata": {
      "needs_background": "light"
     },
     "output_type": "display_data"
    },
    {
     "data": {
      "image/png": "[encoded data removed]",
      "text/plain": [
       "<Figure size 432x288 with 1 Axes>"
      ]
     },
     "metadata": {
      "needs_background": "light"
     },
     "output_type": "display_data"
    },
    {
     "data": {
      "image/png": "[encoded data removed]",
      "text/plain": [
       "<Figure size 432x288 with 1 Axes>"
      ]
     },
     "metadata": {
      "needs_background": "light"
     },
     "output_type": "display_data"
    },
    {
     "data": {
      "image/png": "[encoded data removed]",
      "text/plain": [
       "<Figure size 432x288 with 1 Axes>"
      ]
     },
     "metadata": {
      "needs_background": "light"
     },
     "output_type": "display_data"
    },
    {
     "data": {
      "image/png": "[encoded data removed]",
      "text/plain": [
       "<Figure size 432x288 with 1 Axes>"
      ]
     },
     "metadata": {
      "needs_background": "light"
     },
     "output_type": "display_data"
    },
    {
     "data": {
      "image/png": "[encoded data removed]",
      "text/plain": [
       "<Figure size 432x288 with 1 Axes>"
      ]
     },
     "metadata": {
      "needs_background": "light"
     },
     "output_type": "display_data"
    },
    {
     "data": {
      "image/png": "[encoded data removed]",
      "text/plain": [
       "<Figure size 432x288 with 1 Axes>"
      ]
     },
     "metadata": {
      "needs_background": "light"
     },
     "output_type": "display_data"
    }
   ],
   "source": [
    "import pandas as pd\n",
    "import numpy as np\n",
    "data = pd.read_csv(\"basketball.csv\")\n",
    "num_cluster  = 5 \n",
    "random_idx = np.random.choice(data.index, 5)\n",
    "center_df = data.loc[random_idx,:].copy()\n",
    "\n",
    "print('vẽ biểu đồ sau khi chọn ngẫu nhiên 5 điểm làm trung tâm ban đầu, và chưa phân cụm data: ')\n",
    "import matplotlib.pyplot as plt\n",
    "plt.scatter(data['ppg'],data['atr'])\n",
    "plt.scatter(center_df['ppg'],center_df['atr'], color = 'red')\n",
    "plt.xlabel('chọn 5 điểm ngẫu nhiên làm center point')\n",
    "plt.show()\n",
    "\n",
    "def create_dict_center(df_center):\n",
    "    \"\"\"\n",
    "    hàm đưa 5 điểm center vào 1 dict riêng có values là tọa độ điểm (ppg-atr) \n",
    "    và key chính là tên cluster để dùng cho phần sau\n",
    "    \"\"\"\n",
    "    count = 0\n",
    "    dict_center = {}\n",
    "    for idx, row in df_center.iterrows():\n",
    "        coordinates =  [row['ppg'],row['atr']]\n",
    "        dict_center[count]  = coordinates\n",
    "        count += 1   \n",
    "    return dict_center\n",
    "  \n",
    "def caculated_distance(center_point, player_point):\n",
    "    \n",
    "    \"\"\"\n",
    "    hàm tính khoảng cách euclid = (sum((q1-p1)^2 + ...+ (qn-pn)^2))^0.5\n",
    "    \"\"\"\n",
    "    import math\n",
    "    sum_dis = 0\n",
    "    for i in range(len(center_point)):\n",
    "        distance = center_point[i] - player_point[i]\n",
    "        sum_dis += distance**2\n",
    "    eculid_dis = math.sqrt(sum_dis)\n",
    "    return eculid_dis\n",
    "\n",
    "def excute_cluster(row):\n",
    "    '''\n",
    "    excute_cluster: hàm thực hiện phân cụm\n",
    "    - Input: chỉ nhận 1 dòng của data,\n",
    "    kết hợp với hàm apply bên ngoài hàm sẽ tính vs so sánh đc khoảng cách toàn bộ tập dữ liệu\n",
    "    - Output: return label: 0,1,2,3,4\n",
    "    - từ mỗi điểm quan sát tính 5 khoảng cách tới 5 center_point và so sánh ,\n",
    "    => điểm quan sát sẽ thuộc cluster mà khoảng cách từ điểm đó đến center_point ngắn nhất.\n",
    "    '''\n",
    "    lowest_dis = None\n",
    "    cluster_id = None\n",
    "    play_pts = [row['ppg'], row['atr']]\n",
    "    \n",
    "    for keys, values in center_dict.items():\n",
    "        distance = caculated_distance(values, play_pts)\n",
    "        \n",
    "        if lowest_dis == None:\n",
    "            cluster_id = keys\n",
    "            lowest_dis = distance\n",
    "            \n",
    "        elif distance < lowest_dis:\n",
    "            lowest_dis = distance\n",
    "            cluster_id = keys           \n",
    "    return cluster_id\n",
    "    \n",
    "def update_center_point(df):\n",
    "    '''\n",
    "    hàm update lại center point\n",
    "    input: dict center \n",
    "    output: dict mới với values là các điểm có giá trị trung bình trong tập đã cluster\n",
    "    '''\n",
    "    dict_update = dict()\n",
    "    for i in range(0, num_cluster):\n",
    "        filter_df = df[df['cluster'] == i].copy()\n",
    "        dict_update[i] = [np.mean(filter_df['ppg']), np.mean(filter_df['atr']) ]\n",
    "                                  \n",
    "    return dict_update\n",
    "\n",
    "\n",
    "center_dict = create_dict_center(center_df)  \n",
    "data['cluster'] = data.apply(lambda row: excute_cluster(row)  , axis = 1)\n",
    "#visualize data khi đã phân cụm ( nhưng chưa update center point)\n",
    "unique_cluster = data['cluster'].unique()\n",
    "unique_cluster\n",
    "for i in unique_cluster:\n",
    "    df_temp = data[data['cluster']==i]\n",
    "    plt.scatter(df_temp['ppg'],df_temp['atr'])\n",
    "plt.xlabel('Khi đã phân cụm nhưng chưa update center point')    \n",
    "plt.show()\n",
    "\n",
    "for i in range(5):\n",
    "    center_dict = update_center_point(data)\n",
    "    data['cluster'] = data.apply(lambda row: excute_cluster(row)  , axis = 1)\n",
    "    unique_cluster = data['cluster'].unique()\n",
    "    for k in unique_cluster:\n",
    "        df_temp = data[data['cluster']==k]\n",
    "        plt.scatter(df_temp['ppg'],df_temp['atr'])\n",
    "    plt.xlabel(f'update center_point lần: {i+1}',)    \n",
    "    plt.show()"
   ]
  },
  {
   "cell_type": "code",
   "execution_count": null,
   "id": "33192511",
   "metadata": {},
   "outputs": [],
   "source": []
  }
 ],
 "metadata": {
  "kernelspec": {
   "display_name": "Python 3 (ipykernel)",
   "language": "python",
   "name": "python3"
  },
  "language_info": {
   "codemirror_mode": {
    "name": "ipython",
    "version": 3
   },
   "file_extension": ".py",
   "mimetype": "text/x-python",
   "name": "python",
   "nbconvert_exporter": "python",
   "pygments_lexer": "ipython3",
   "version": "3.9.7"
  }
 },
 "nbformat": 4,
 "nbformat_minor": 5
}
