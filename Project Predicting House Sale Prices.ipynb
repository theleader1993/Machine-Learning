{
 "cells": [
  {
   "cell_type": "markdown",
   "id": "934435b3",
   "metadata": {},
   "source": [
    "# Project: Dự Đoán Giá Bán Nhà Bằng Linear Regression"
   ]
  },
  {
   "cell_type": "code",
   "execution_count": 3,
   "id": "f96af55c",
   "metadata": {},
   "outputs": [],
   "source": [
    "import pandas as pd\n",
    "import numpy as np\n",
    "import matplotlib.pyplot as plt\n",
    "from sklearn.linear_model import LinearRegression\n",
    "from sklearn.metrics import mean_squared_error\n",
    "from sklearn.model_selection import train_test_split, KFold"
   ]
  },
  {
   "cell_type": "code",
   "execution_count": 33,
   "id": "09d3013a",
   "metadata": {},
   "outputs": [],
   "source": [
    "sale_houses = pd.read_csv('AmesHousing.txt',delimiter = '\\t')"
   ]
  },
  {
   "cell_type": "code",
   "execution_count": 4,
   "id": "08d80aa2",
   "metadata": {},
   "outputs": [
    {
     "name": "stdout",
     "output_type": "stream",
     "text": [
      "(2930, 82)\n"
     ]
    },
    {
     "data": {
      "text/html": [
       "<div>\n",
       "<style scoped>\n",
       "    .dataframe tbody tr th:only-of-type {\n",
       "        vertical-align: middle;\n",
       "    }\n",
       "\n",
       "    .dataframe tbody tr th {\n",
       "        vertical-align: top;\n",
       "    }\n",
       "\n",
       "    .dataframe thead th {\n",
       "        text-align: right;\n",
       "    }\n",
       "</style>\n",
       "<table border=\"1\" class=\"dataframe\">\n",
       "  <thead>\n",
       "    <tr style=\"text-align: right;\">\n",
       "      <th></th>\n",
       "      <th>Order</th>\n",
       "      <th>PID</th>\n",
       "      <th>MS SubClass</th>\n",
       "      <th>MS Zoning</th>\n",
       "      <th>Lot Frontage</th>\n",
       "      <th>Lot Area</th>\n",
       "      <th>Street</th>\n",
       "      <th>Alley</th>\n",
       "      <th>Lot Shape</th>\n",
       "      <th>Land Contour</th>\n",
       "      <th>...</th>\n",
       "      <th>Pool Area</th>\n",
       "      <th>Pool QC</th>\n",
       "      <th>Fence</th>\n",
       "      <th>Misc Feature</th>\n",
       "      <th>Misc Val</th>\n",
       "      <th>Mo Sold</th>\n",
       "      <th>Yr Sold</th>\n",
       "      <th>Sale Type</th>\n",
       "      <th>Sale Condition</th>\n",
       "      <th>SalePrice</th>\n",
       "    </tr>\n",
       "  </thead>\n",
       "  <tbody>\n",
       "    <tr>\n",
       "      <th>0</th>\n",
       "      <td>1</td>\n",
       "      <td>526301100</td>\n",
       "      <td>20</td>\n",
       "      <td>RL</td>\n",
       "      <td>141.0</td>\n",
       "      <td>31770</td>\n",
       "      <td>Pave</td>\n",
       "      <td>NaN</td>\n",
       "      <td>IR1</td>\n",
       "      <td>Lvl</td>\n",
       "      <td>...</td>\n",
       "      <td>0</td>\n",
       "      <td>NaN</td>\n",
       "      <td>NaN</td>\n",
       "      <td>NaN</td>\n",
       "      <td>0</td>\n",
       "      <td>5</td>\n",
       "      <td>2010</td>\n",
       "      <td>WD</td>\n",
       "      <td>Normal</td>\n",
       "      <td>215000</td>\n",
       "    </tr>\n",
       "    <tr>\n",
       "      <th>1</th>\n",
       "      <td>2</td>\n",
       "      <td>526350040</td>\n",
       "      <td>20</td>\n",
       "      <td>RH</td>\n",
       "      <td>80.0</td>\n",
       "      <td>11622</td>\n",
       "      <td>Pave</td>\n",
       "      <td>NaN</td>\n",
       "      <td>Reg</td>\n",
       "      <td>Lvl</td>\n",
       "      <td>...</td>\n",
       "      <td>0</td>\n",
       "      <td>NaN</td>\n",
       "      <td>MnPrv</td>\n",
       "      <td>NaN</td>\n",
       "      <td>0</td>\n",
       "      <td>6</td>\n",
       "      <td>2010</td>\n",
       "      <td>WD</td>\n",
       "      <td>Normal</td>\n",
       "      <td>105000</td>\n",
       "    </tr>\n",
       "    <tr>\n",
       "      <th>2</th>\n",
       "      <td>3</td>\n",
       "      <td>526351010</td>\n",
       "      <td>20</td>\n",
       "      <td>RL</td>\n",
       "      <td>81.0</td>\n",
       "      <td>14267</td>\n",
       "      <td>Pave</td>\n",
       "      <td>NaN</td>\n",
       "      <td>IR1</td>\n",
       "      <td>Lvl</td>\n",
       "      <td>...</td>\n",
       "      <td>0</td>\n",
       "      <td>NaN</td>\n",
       "      <td>NaN</td>\n",
       "      <td>Gar2</td>\n",
       "      <td>12500</td>\n",
       "      <td>6</td>\n",
       "      <td>2010</td>\n",
       "      <td>WD</td>\n",
       "      <td>Normal</td>\n",
       "      <td>172000</td>\n",
       "    </tr>\n",
       "    <tr>\n",
       "      <th>3</th>\n",
       "      <td>4</td>\n",
       "      <td>526353030</td>\n",
       "      <td>20</td>\n",
       "      <td>RL</td>\n",
       "      <td>93.0</td>\n",
       "      <td>11160</td>\n",
       "      <td>Pave</td>\n",
       "      <td>NaN</td>\n",
       "      <td>Reg</td>\n",
       "      <td>Lvl</td>\n",
       "      <td>...</td>\n",
       "      <td>0</td>\n",
       "      <td>NaN</td>\n",
       "      <td>NaN</td>\n",
       "      <td>NaN</td>\n",
       "      <td>0</td>\n",
       "      <td>4</td>\n",
       "      <td>2010</td>\n",
       "      <td>WD</td>\n",
       "      <td>Normal</td>\n",
       "      <td>244000</td>\n",
       "    </tr>\n",
       "    <tr>\n",
       "      <th>4</th>\n",
       "      <td>5</td>\n",
       "      <td>527105010</td>\n",
       "      <td>60</td>\n",
       "      <td>RL</td>\n",
       "      <td>74.0</td>\n",
       "      <td>13830</td>\n",
       "      <td>Pave</td>\n",
       "      <td>NaN</td>\n",
       "      <td>IR1</td>\n",
       "      <td>Lvl</td>\n",
       "      <td>...</td>\n",
       "      <td>0</td>\n",
       "      <td>NaN</td>\n",
       "      <td>MnPrv</td>\n",
       "      <td>NaN</td>\n",
       "      <td>0</td>\n",
       "      <td>3</td>\n",
       "      <td>2010</td>\n",
       "      <td>WD</td>\n",
       "      <td>Normal</td>\n",
       "      <td>189900</td>\n",
       "    </tr>\n",
       "  </tbody>\n",
       "</table>\n",
       "<p>5 rows × 82 columns</p>\n",
       "</div>"
      ],
      "text/plain": [
       "   Order        PID  MS SubClass MS Zoning  Lot Frontage  Lot Area Street  \\\n",
       "0      1  526301100           20        RL         141.0     31770   Pave   \n",
       "1      2  526350040           20        RH          80.0     11622   Pave   \n",
       "2      3  526351010           20        RL          81.0     14267   Pave   \n",
       "3      4  526353030           20        RL          93.0     11160   Pave   \n",
       "4      5  527105010           60        RL          74.0     13830   Pave   \n",
       "\n",
       "  Alley Lot Shape Land Contour  ... Pool Area Pool QC  Fence Misc Feature  \\\n",
       "0   NaN       IR1          Lvl  ...         0     NaN    NaN          NaN   \n",
       "1   NaN       Reg          Lvl  ...         0     NaN  MnPrv          NaN   \n",
       "2   NaN       IR1          Lvl  ...         0     NaN    NaN         Gar2   \n",
       "3   NaN       Reg          Lvl  ...         0     NaN    NaN          NaN   \n",
       "4   NaN       IR1          Lvl  ...         0     NaN  MnPrv          NaN   \n",
       "\n",
       "  Misc Val Mo Sold Yr Sold Sale Type  Sale Condition  SalePrice  \n",
       "0        0       5    2010       WD           Normal     215000  \n",
       "1        0       6    2010       WD           Normal     105000  \n",
       "2    12500       6    2010       WD           Normal     172000  \n",
       "3        0       4    2010       WD           Normal     244000  \n",
       "4        0       3    2010       WD           Normal     189900  \n",
       "\n",
       "[5 rows x 82 columns]"
      ]
     },
     "execution_count": 4,
     "metadata": {},
     "output_type": "execute_result"
    }
   ],
   "source": [
    "print(sale_houses.shape)\n",
    "sale_houses.head()"
   ]
  },
  {
   "cell_type": "code",
   "execution_count": 4,
   "id": "560b1f7c",
   "metadata": {},
   "outputs": [],
   "source": [
    "#Tạo những hàm cần thiết để layout trước bố cục những việc cần làm\n",
    "def transform_features(df):\n",
    "    return df\n",
    "\n",
    "def select_features(df):\n",
    "    return df.loc[:,['Gr Liv Area','SalePrice']]\n",
    "\n",
    "def train_and_test(df):\n",
    "    train = df[0:1460].copy()\n",
    "    test = df[1460:].copy()\n",
    "    \n",
    "    X_train = select_features(train).iloc[:,:-1]\n",
    "    y_train = select_features(train).iloc[:,-1]\n",
    "    \n",
    "    lr = LinearRegression()\n",
    "    lr.fit(X_train, y_train)\n",
    "    \n",
    "    X_test = select_features(test).iloc[:,:-1]\n",
    "    y_test = select_features(test).iloc[:,-1]\n",
    "    \n",
    "    y_predict = lr.predict(X_test)\n",
    "    \n",
    "    mse_test = mean_squared_error(y_predict,y_test)\n",
    "    rmse_test = np.sqrt(mse_test)\n",
    "    \n",
    "    return rmse_test"
   ]
  },
  {
   "cell_type": "code",
   "execution_count": 35,
   "id": "1f75c1d8",
   "metadata": {},
   "outputs": [
    {
     "data": {
      "text/plain": [
       "57088.25161263909"
      ]
     },
     "execution_count": 35,
     "metadata": {},
     "output_type": "execute_result"
    }
   ],
   "source": [
    "RMSE = train_and_test(sale_houses)\n",
    "RMSE"
   ]
  },
  {
   "cell_type": "markdown",
   "id": "ae601f83",
   "metadata": {},
   "source": [
    "- Kết Luận 1: Với việc chỉ chọn 1 column 'Gr Liv Area' làm features và không làm gì thêm ta có RMSE = 57088.25161263909\n",
    "- Nhiệm vụ của project: hãy dùng tất cả phương pháp transform features, select feature ... để tối ưu hóa trước khi train model, cụ thể expect RMSE phải giảm đáng kể so với RMSE ở trên.\n"
   ]
  },
  {
   "cell_type": "markdown",
   "id": "a1b928c7",
   "metadata": {},
   "source": [
    "# Transform Features"
   ]
  },
  {
   "cell_type": "markdown",
   "id": "f8a88685",
   "metadata": {},
   "source": [
    "- Handle missing values:\n",
    "    - Missing values  > 5%:\n",
    "        - Drop any columns with 5% or more missing values for now.\n",
    "    - Missing values  < 5%:\n",
    "        -  Text columns:\n",
    "            - Drop any with 1 or more missing values for now.\n",
    "        -  Numerical columns:\n",
    "            - For columns with missing values: fillna"
   ]
  },
  {
   "cell_type": "markdown",
   "id": "54622d32",
   "metadata": {},
   "source": [
    "1. Drop tất cả các columns có số lượng missing value > 5%"
   ]
  },
  {
   "cell_type": "code",
   "execution_count": 54,
   "id": "9f5fe3c9",
   "metadata": {},
   "outputs": [
    {
     "data": {
      "text/plain": [
       "(2930, 71)"
      ]
     },
     "execution_count": 54,
     "metadata": {},
     "output_type": "execute_result"
    }
   ],
   "source": [
    "seri_null_counts = sale_houses.isnull().sum()\n",
    "index_null_than5 = seri_null_counts[seri_null_counts>(len(sale_houses)/20)].index\n",
    "drop_null_than5 = sale_houses.drop(columns = index_null_than5, axis = 1)\n",
    "drop_null_than5.shape"
   ]
  },
  {
   "cell_type": "markdown",
   "id": "4562649e",
   "metadata": {},
   "source": [
    "2. Đối với text columns: drop column nếu chứa chỉ 1 missing values hoặc nhiều hơn"
   ]
  },
  {
   "cell_type": "code",
   "execution_count": 55,
   "id": "90ee564d",
   "metadata": {},
   "outputs": [
    {
     "data": {
      "text/plain": [
       "(2930, 64)"
      ]
     },
     "execution_count": 55,
     "metadata": {},
     "output_type": "execute_result"
    }
   ],
   "source": [
    "text_null_counts = drop_null_than5.select_dtypes(include = 'object').isnull().sum()\n",
    "text_null_index = text_null_counts[text_null_counts > 0].index\n",
    "data = drop_null_than5.drop(columns =text_null_index, axis = 1 )\n",
    "data.shape"
   ]
  },
  {
   "cell_type": "markdown",
   "id": "d4cda69b",
   "metadata": {},
   "source": [
    "3. Đối với numeric columns: \n",
    "- Fillna = mean đối với những giá trị null.\n",
    "- Điều này sẽ không làm hỏng model hay sai dữ liệu bởi vì những numeric_column này có số lượng null rất ít ( <5% do kết quả từ bước 1)"
   ]
  },
  {
   "cell_type": "code",
   "execution_count": 56,
   "id": "262f8e77",
   "metadata": {},
   "outputs": [
    {
     "data": {
      "text/plain": [
       "0     28\n",
       "1      6\n",
       "2      2\n",
       "23     1\n",
       "dtype: int64"
      ]
     },
     "execution_count": 56,
     "metadata": {},
     "output_type": "execute_result"
    }
   ],
   "source": [
    "# show numeric_colums counts:\n",
    "data.select_dtypes(include = ['float','int']).isnull().sum().value_counts()"
   ]
  },
  {
   "cell_type": "code",
   "execution_count": 57,
   "id": "31b608e1",
   "metadata": {},
   "outputs": [
    {
     "data": {
      "text/plain": [
       "0    64\n",
       "dtype: int64"
      ]
     },
     "execution_count": 57,
     "metadata": {},
     "output_type": "execute_result"
    }
   ],
   "source": [
    "#fillna for numeric_col\n",
    "cols_num = data.select_dtypes(include = ['float','int']).columns\n",
    "data.loc[:,cols_num] = data.loc[:,cols_num].fillna(data.loc[:,cols_num].mean())\n",
    "# Verify that every column has 0 missing values\n",
    "data.isnull().sum().value_counts()"
   ]
  },
  {
   "cell_type": "markdown",
   "id": "9e07dff6",
   "metadata": {},
   "source": [
    "4. Khám phá những column thời gian sau\n",
    "- 'Year Built' là năm xây dựng\n",
    "- 'Yr Sold' là năm bán\n",
    "- 'Year Remod/Add' là năm tu sửa\n",
    "- Bây giờ hãy cố gắng tạo ra những tính năng mới có ý nghĩa hơn từ 3 column trên giúp ích cho model:\n",
    "    - Project này là dự đoán giá bán SalePrice nên rất hữu ích khi biết:\n",
    "        - 1.thời gian từ năm xây đến năm bán ( tuổi của căn nhà )\n",
    "        - 2.thời gian từ năm tu sửa đến năm bán."
   ]
  },
  {
   "cell_type": "code",
   "execution_count": 58,
   "id": "5e058bcc",
   "metadata": {},
   "outputs": [
    {
     "name": "stdout",
     "output_type": "stream",
     "text": [
      "2180   -1\n",
      "Name: Years Before Sale, dtype: int64\n",
      "----------\n",
      "1702   -1\n",
      "2180   -2\n",
      "2181   -1\n",
      "Name: Years Since Remod, dtype: int64\n"
     ]
    }
   ],
   "source": [
    "#Tạo 2 feature mới và sau đó tìm điểm dữ liệu error của chúng:\n",
    "data['Years Before Sale'] = data['Yr Sold'] - data['Year Built']\n",
    "age_error = data['Years Before Sale'][data['Years Before Sale']<0].index.to_list()\n",
    "print(data['Years Before Sale'][data['Years Before Sale']<0])\n",
    "\n",
    "print('----------')\n",
    "\n",
    "data['Years Since Remod'] = data['Yr Sold'] - data['Year Remod/Add']\n",
    "remod_error = data['Years Since Remod'][data['Years Since Remod'] <0].index.to_list()\n",
    "print(data['Years Since Remod'][data['Years Since Remod'] <0])"
   ]
  },
  {
   "cell_type": "code",
   "execution_count": 59,
   "id": "4511534a",
   "metadata": {},
   "outputs": [
    {
     "data": {
      "text/plain": [
       "[2180, 2181, 1702]"
      ]
     },
     "execution_count": 59,
     "metadata": {},
     "output_type": "execute_result"
    }
   ],
   "source": [
    "list_error = list(set(age_error + remod_error))\n",
    "list_error"
   ]
  },
  {
   "cell_type": "code",
   "execution_count": 60,
   "id": "c6aa9d24",
   "metadata": {},
   "outputs": [
    {
     "data": {
      "text/html": [
       "<div>\n",
       "<style scoped>\n",
       "    .dataframe tbody tr th:only-of-type {\n",
       "        vertical-align: middle;\n",
       "    }\n",
       "\n",
       "    .dataframe tbody tr th {\n",
       "        vertical-align: top;\n",
       "    }\n",
       "\n",
       "    .dataframe thead th {\n",
       "        text-align: right;\n",
       "    }\n",
       "</style>\n",
       "<table border=\"1\" class=\"dataframe\">\n",
       "  <thead>\n",
       "    <tr style=\"text-align: right;\">\n",
       "      <th></th>\n",
       "      <th>Year Built</th>\n",
       "      <th>Year Remod/Add</th>\n",
       "      <th>Yr Sold</th>\n",
       "    </tr>\n",
       "  </thead>\n",
       "  <tbody>\n",
       "    <tr>\n",
       "      <th>2180</th>\n",
       "      <td>2008</td>\n",
       "      <td>2009</td>\n",
       "      <td>2007</td>\n",
       "    </tr>\n",
       "    <tr>\n",
       "      <th>2181</th>\n",
       "      <td>2007</td>\n",
       "      <td>2008</td>\n",
       "      <td>2007</td>\n",
       "    </tr>\n",
       "    <tr>\n",
       "      <th>1702</th>\n",
       "      <td>2007</td>\n",
       "      <td>2008</td>\n",
       "      <td>2007</td>\n",
       "    </tr>\n",
       "  </tbody>\n",
       "</table>\n",
       "</div>"
      ],
      "text/plain": [
       "      Year Built  Year Remod/Add  Yr Sold\n",
       "2180        2008            2009     2007\n",
       "2181        2007            2008     2007\n",
       "1702        2007            2008     2007"
      ]
     },
     "execution_count": 60,
     "metadata": {},
     "output_type": "execute_result"
    }
   ],
   "source": [
    "data.loc[list_error,['Year Built','Year Remod/Add','Yr Sold']]"
   ]
  },
  {
   "cell_type": "code",
   "execution_count": 61,
   "id": "9a827440",
   "metadata": {},
   "outputs": [],
   "source": [
    "# drop những rows error\n",
    "data = data.drop(list_error, axis =0)\n",
    "#drop 2 column không còn dùng đến\n",
    "data = data.drop([\"Year Built\", \"Year Remod/Add\"], axis = 1)"
   ]
  },
  {
   "cell_type": "markdown",
   "id": "666f8228",
   "metadata": {},
   "source": [
    "5. Drop columns that\n",
    "- that aren't useful for ML\n",
    "- leak data about the final sale, read more about columns"
   ]
  },
  {
   "cell_type": "code",
   "execution_count": 62,
   "id": "9b90e7da",
   "metadata": {},
   "outputs": [],
   "source": [
    "## Drop columns that aren't useful for ML\n",
    "data = data.drop([\"PID\", \"Order\"], axis=1)\n",
    "\n",
    "## Drop columns that leak info about the final sale\n",
    "data = data.drop([\"Mo Sold\", \"Sale Condition\", \"Sale Type\", \"Yr Sold\"], axis=1)"
   ]
  },
  {
   "cell_type": "markdown",
   "id": "7092f1e5",
   "metadata": {},
   "source": [
    "6. For now, Let's update transform_features()"
   ]
  },
  {
   "cell_type": "code",
   "execution_count": 67,
   "id": "78d1b627",
   "metadata": {},
   "outputs": [],
   "source": [
    "def transform_features(df):\n",
    "    seri_null_counts = df.isnull().sum()\n",
    "    index_null_than5 = seri_null_counts[seri_null_counts>(len(sale_houses)/20)].index\n",
    "    drop_null_than5 = df.drop(columns = index_null_than5, axis = 1)\n",
    "    \n",
    "    text_null_counts = drop_null_than5.select_dtypes(include = 'object').isnull().sum()\n",
    "    text_null_index = text_null_counts[text_null_counts > 0].index\n",
    "    data = drop_null_than5.drop(columns =text_null_index, axis = 1 )\n",
    "    \n",
    "    cols_num = data.select_dtypes(include = ['float','int']).columns\n",
    "    data.loc[:,cols_num] = data.loc[:,cols_num].fillna(data.loc[:,cols_num].mean())\n",
    "    \n",
    "\n",
    "    data['Years Before Sale'] = data['Yr Sold'] - data['Year Built']\n",
    "    age_error = data['Years Before Sale'][data['Years Before Sale']<0].index.to_list()\n",
    "    data['Years Since Remod'] = data['Yr Sold'] - data['Year Remod/Add']\n",
    "    remod_error = data['Years Since Remod'][data['Years Since Remod'] <0].index.to_list()\n",
    "    list_error = list(set(age_error + remod_error))\n",
    "    \n",
    "\n",
    "    data = data.drop(list_error, axis =0)\n",
    "    data = data.drop([\"Year Built\", \"Year Remod/Add\",\"PID\",\"Order\",\"Mo Sold\",\"Sale Condition\",\"Sale Type\",\"Yr Sold\"],axis = 1)\n",
    "    return data\n",
    "\n",
    "def select_features(df):\n",
    "    return df.loc[:,['Gr Liv Area','SalePrice']]\n",
    "\n",
    "def train_and_test(df):\n",
    "    train = df[0:1460].copy()\n",
    "    test = df[1460:].copy()\n",
    "    \n",
    "    X_train = train.drop(['SalePrice'], axis = 1)\n",
    "    y_train = train['SalePrice']\n",
    "    \n",
    "    lr = LinearRegression()\n",
    "    lr.fit(X_train, y_train)\n",
    "    \n",
    "    X_test = test.drop(['SalePrice'], axis = 1)\n",
    "    y_test = test['SalePrice']\n",
    "    \n",
    "    y_predict = lr.predict(X_test)\n",
    "    \n",
    "    mse_test = mean_squared_error(y_predict,y_test)\n",
    "    rmse_test = np.sqrt(mse_test)\n",
    "    \n",
    "    return rmse_test"
   ]
  },
  {
   "cell_type": "code",
   "execution_count": 68,
   "id": "8f6c8b24",
   "metadata": {},
   "outputs": [
    {
     "name": "stdout",
     "output_type": "stream",
     "text": [
      "(2927, 58)\n",
      "0    58\n",
      "dtype: int64\n"
     ]
    }
   ],
   "source": [
    "data_transform = transform_features(sale_houses)\n",
    "print(data_transform.shape)\n",
    "print(data_transform.isnull().sum().value_counts())"
   ]
  },
  {
   "cell_type": "markdown",
   "id": "427f787d",
   "metadata": {},
   "source": [
    "# Select Features"
   ]
  },
  {
   "cell_type": "markdown",
   "id": "5e59477c",
   "metadata": {},
   "source": [
    "1. Chọn những numeric column có độ tương quan cao đối với target (SalePrice) đồng thời bỏ bớt column tương đồng nhau."
   ]
  },
  {
   "cell_type": "code",
   "execution_count": 87,
   "id": "89fc4fce",
   "metadata": {},
   "outputs": [
    {
     "data": {
      "text/plain": [
       "<AxesSubplot:>"
      ]
     },
     "execution_count": 87,
     "metadata": {},
     "output_type": "execute_result"
    },
    {
     "data": {
      "image/png": "[encoded data removed]",
      "text/plain": [
       "<Figure size 432x288 with 2 Axes>"
      ]
     },
     "metadata": {
      "needs_background": "light"
     },
     "output_type": "display_data"
    }
   ],
   "source": [
    "import seaborn as sns\n",
    "data_transform = transform_features(sale_houses)\n",
    "seri_corr = np.abs(data_transform.corr()['SalePrice'])\n",
    "corr_strong = seri_corr[seri_corr>0.4].sort_values()\n",
    "name_numeric_cols = corr_strong.index\n",
    "max_corr = data_transform.loc[:,corr_strong.index].corr()\n",
    "sns.heatmap(max_corr)"
   ]
  },
  {
   "cell_type": "code",
   "execution_count": 88,
   "id": "29f2d9bf",
   "metadata": {},
   "outputs": [
    {
     "data": {
      "text/plain": [
       "Index(['BsmtFin SF 1', 'Fireplaces', 'Mas Vnr Area', 'Years Since Remod',\n",
       "       'Full Bath', 'Years Before Sale', '1st Flr SF', 'Garage Cars',\n",
       "       'Gr Liv Area', 'Overall Qual', 'SalePrice'],\n",
       "      dtype='object')"
      ]
     },
     "execution_count": 88,
     "metadata": {},
     "output_type": "execute_result"
    }
   ],
   "source": [
    "#từ heatmap ở trên thấy có 3 cặp feature tương đồng lẫn nhau, nên xóa đi 1 từ mỗi cặp\n",
    "name_numeric_cols = name_numeric_cols.drop(['Garage Area','Total Bsmt SF','TotRms AbvGrd'])\n",
    "name_numeric_cols"
   ]
  },
  {
   "cell_type": "markdown",
   "id": "9a118185",
   "metadata": {},
   "source": [
    "2. Lọc text_cloumn với tiêu chí số gtri duy nhất < 10. Bởi vì bước sau convert category column sang dạng dummy (mã giả code)"
   ]
  },
  {
   "cell_type": "code",
   "execution_count": 89,
   "id": "4720a387",
   "metadata": {},
   "outputs": [
    {
     "data": {
      "text/plain": [
       "MS Zoning        7\n",
       "Street           2\n",
       "Lot Shape        4\n",
       "Land Contour     4\n",
       "Utilities        3\n",
       "Lot Config       5\n",
       "Land Slope       3\n",
       "Neighborhood    28\n",
       "Condition 1      9\n",
       "Condition 2      8\n",
       "Bldg Type        5\n",
       "House Style      8\n",
       "Roof Style       6\n",
       "Roof Matl        8\n",
       "Exterior 1st    16\n",
       "Exterior 2nd    17\n",
       "Exter Qual       4\n",
       "Exter Cond       5\n",
       "Foundation       6\n",
       "Heating          6\n",
       "Heating QC       5\n",
       "Central Air      2\n",
       "Kitchen Qual     5\n",
       "Functional       8\n",
       "Paved Drive      3\n",
       "dtype: int64"
      ]
     },
     "execution_count": 89,
     "metadata": {},
     "output_type": "execute_result"
    }
   ],
   "source": [
    "# Đếm số lượng value unique tại mỗi cột\n",
    "name_text_cols = data_transform.select_dtypes(include = 'object').columns\n",
    "count_unique = data_transform[name_text_cols].apply(lambda col: len(col.unique()))\n",
    "count_unique"
   ]
  },
  {
   "cell_type": "code",
   "execution_count": 90,
   "id": "57d002e8",
   "metadata": {},
   "outputs": [
    {
     "data": {
      "text/plain": [
       "Index(['MS Zoning', 'Street', 'Lot Shape', 'Land Contour', 'Utilities',\n",
       "       'Lot Config', 'Land Slope', 'Condition 1', 'Condition 2', 'Bldg Type',\n",
       "       'House Style', 'Roof Style', 'Roof Matl', 'Exter Qual', 'Exter Cond',\n",
       "       'Foundation', 'Heating', 'Heating QC', 'Central Air', 'Kitchen Qual',\n",
       "       'Functional', 'Paved Drive'],\n",
       "      dtype='object')"
      ]
     },
     "execution_count": 90,
     "metadata": {},
     "output_type": "execute_result"
    }
   ],
   "source": [
    "#drop những column có số unique >10\n",
    "name_text_cols = name_text_cols.drop(count_unique[count_unique>10].index)\n",
    "name_text_cols"
   ]
  },
  {
   "cell_type": "code",
   "execution_count": 91,
   "id": "f61f994e",
   "metadata": {},
   "outputs": [
    {
     "data": {
      "text/html": [
       "<div>\n",
       "<style scoped>\n",
       "    .dataframe tbody tr th:only-of-type {\n",
       "        vertical-align: middle;\n",
       "    }\n",
       "\n",
       "    .dataframe tbody tr th {\n",
       "        vertical-align: top;\n",
       "    }\n",
       "\n",
       "    .dataframe thead th {\n",
       "        text-align: right;\n",
       "    }\n",
       "</style>\n",
       "<table border=\"1\" class=\"dataframe\">\n",
       "  <thead>\n",
       "    <tr style=\"text-align: right;\">\n",
       "      <th></th>\n",
       "      <th>BsmtFin SF 1</th>\n",
       "      <th>Fireplaces</th>\n",
       "      <th>Mas Vnr Area</th>\n",
       "      <th>Years Since Remod</th>\n",
       "      <th>Full Bath</th>\n",
       "      <th>Years Before Sale</th>\n",
       "      <th>1st Flr SF</th>\n",
       "      <th>Garage Cars</th>\n",
       "      <th>Gr Liv Area</th>\n",
       "      <th>Overall Qual</th>\n",
       "      <th>...</th>\n",
       "      <th>Roof Matl</th>\n",
       "      <th>Exter Qual</th>\n",
       "      <th>Exter Cond</th>\n",
       "      <th>Foundation</th>\n",
       "      <th>Heating</th>\n",
       "      <th>Heating QC</th>\n",
       "      <th>Central Air</th>\n",
       "      <th>Kitchen Qual</th>\n",
       "      <th>Functional</th>\n",
       "      <th>Paved Drive</th>\n",
       "    </tr>\n",
       "  </thead>\n",
       "  <tbody>\n",
       "    <tr>\n",
       "      <th>0</th>\n",
       "      <td>639.0</td>\n",
       "      <td>2</td>\n",
       "      <td>112.0</td>\n",
       "      <td>50</td>\n",
       "      <td>1</td>\n",
       "      <td>50</td>\n",
       "      <td>1656</td>\n",
       "      <td>2.0</td>\n",
       "      <td>1656</td>\n",
       "      <td>6</td>\n",
       "      <td>...</td>\n",
       "      <td>CompShg</td>\n",
       "      <td>TA</td>\n",
       "      <td>TA</td>\n",
       "      <td>CBlock</td>\n",
       "      <td>GasA</td>\n",
       "      <td>Fa</td>\n",
       "      <td>Y</td>\n",
       "      <td>TA</td>\n",
       "      <td>Typ</td>\n",
       "      <td>P</td>\n",
       "    </tr>\n",
       "    <tr>\n",
       "      <th>1</th>\n",
       "      <td>468.0</td>\n",
       "      <td>0</td>\n",
       "      <td>0.0</td>\n",
       "      <td>49</td>\n",
       "      <td>1</td>\n",
       "      <td>49</td>\n",
       "      <td>896</td>\n",
       "      <td>1.0</td>\n",
       "      <td>896</td>\n",
       "      <td>5</td>\n",
       "      <td>...</td>\n",
       "      <td>CompShg</td>\n",
       "      <td>TA</td>\n",
       "      <td>TA</td>\n",
       "      <td>CBlock</td>\n",
       "      <td>GasA</td>\n",
       "      <td>TA</td>\n",
       "      <td>Y</td>\n",
       "      <td>TA</td>\n",
       "      <td>Typ</td>\n",
       "      <td>Y</td>\n",
       "    </tr>\n",
       "    <tr>\n",
       "      <th>2</th>\n",
       "      <td>923.0</td>\n",
       "      <td>0</td>\n",
       "      <td>108.0</td>\n",
       "      <td>52</td>\n",
       "      <td>1</td>\n",
       "      <td>52</td>\n",
       "      <td>1329</td>\n",
       "      <td>1.0</td>\n",
       "      <td>1329</td>\n",
       "      <td>6</td>\n",
       "      <td>...</td>\n",
       "      <td>CompShg</td>\n",
       "      <td>TA</td>\n",
       "      <td>TA</td>\n",
       "      <td>CBlock</td>\n",
       "      <td>GasA</td>\n",
       "      <td>TA</td>\n",
       "      <td>Y</td>\n",
       "      <td>Gd</td>\n",
       "      <td>Typ</td>\n",
       "      <td>Y</td>\n",
       "    </tr>\n",
       "    <tr>\n",
       "      <th>3</th>\n",
       "      <td>1065.0</td>\n",
       "      <td>2</td>\n",
       "      <td>0.0</td>\n",
       "      <td>42</td>\n",
       "      <td>2</td>\n",
       "      <td>42</td>\n",
       "      <td>2110</td>\n",
       "      <td>2.0</td>\n",
       "      <td>2110</td>\n",
       "      <td>7</td>\n",
       "      <td>...</td>\n",
       "      <td>CompShg</td>\n",
       "      <td>Gd</td>\n",
       "      <td>TA</td>\n",
       "      <td>CBlock</td>\n",
       "      <td>GasA</td>\n",
       "      <td>Ex</td>\n",
       "      <td>Y</td>\n",
       "      <td>Ex</td>\n",
       "      <td>Typ</td>\n",
       "      <td>Y</td>\n",
       "    </tr>\n",
       "    <tr>\n",
       "      <th>4</th>\n",
       "      <td>791.0</td>\n",
       "      <td>1</td>\n",
       "      <td>0.0</td>\n",
       "      <td>12</td>\n",
       "      <td>2</td>\n",
       "      <td>13</td>\n",
       "      <td>928</td>\n",
       "      <td>2.0</td>\n",
       "      <td>1629</td>\n",
       "      <td>5</td>\n",
       "      <td>...</td>\n",
       "      <td>CompShg</td>\n",
       "      <td>TA</td>\n",
       "      <td>TA</td>\n",
       "      <td>PConc</td>\n",
       "      <td>GasA</td>\n",
       "      <td>Gd</td>\n",
       "      <td>Y</td>\n",
       "      <td>TA</td>\n",
       "      <td>Typ</td>\n",
       "      <td>Y</td>\n",
       "    </tr>\n",
       "  </tbody>\n",
       "</table>\n",
       "<p>5 rows × 33 columns</p>\n",
       "</div>"
      ],
      "text/plain": [
       "   BsmtFin SF 1  Fireplaces  Mas Vnr Area  Years Since Remod  Full Bath  \\\n",
       "0         639.0           2         112.0                 50          1   \n",
       "1         468.0           0           0.0                 49          1   \n",
       "2         923.0           0         108.0                 52          1   \n",
       "3        1065.0           2           0.0                 42          2   \n",
       "4         791.0           1           0.0                 12          2   \n",
       "\n",
       "   Years Before Sale  1st Flr SF  Garage Cars  Gr Liv Area  Overall Qual  ...  \\\n",
       "0                 50        1656          2.0         1656             6  ...   \n",
       "1                 49         896          1.0          896             5  ...   \n",
       "2                 52        1329          1.0         1329             6  ...   \n",
       "3                 42        2110          2.0         2110             7  ...   \n",
       "4                 13         928          2.0         1629             5  ...   \n",
       "\n",
       "   Roof Matl Exter Qual Exter Cond Foundation Heating Heating QC Central Air  \\\n",
       "0    CompShg         TA         TA     CBlock    GasA         Fa           Y   \n",
       "1    CompShg         TA         TA     CBlock    GasA         TA           Y   \n",
       "2    CompShg         TA         TA     CBlock    GasA         TA           Y   \n",
       "3    CompShg         Gd         TA     CBlock    GasA         Ex           Y   \n",
       "4    CompShg         TA         TA      PConc    GasA         Gd           Y   \n",
       "\n",
       "  Kitchen Qual Functional Paved Drive  \n",
       "0           TA        Typ           P  \n",
       "1           TA        Typ           Y  \n",
       "2           Gd        Typ           Y  \n",
       "3           Ex        Typ           Y  \n",
       "4           TA        Typ           Y  \n",
       "\n",
       "[5 rows x 33 columns]"
      ]
     },
     "execution_count": 91,
     "metadata": {},
     "output_type": "execute_result"
    }
   ],
   "source": [
    "# tạo 1 df mới với những column đã lọc đc ở trên\n",
    "name_cols_full = name_numeric_cols.to_list()  + name_text_cols.to_list()\n",
    "data_transform = data_transform[name_cols_full]\n",
    "data_transform.head()"
   ]
  },
  {
   "cell_type": "code",
   "execution_count": 92,
   "id": "77c3fd2e",
   "metadata": {},
   "outputs": [
    {
     "name": "stdout",
     "output_type": "stream",
     "text": [
      "<class 'pandas.core.frame.DataFrame'>\n",
      "Int64Index: 2927 entries, 0 to 2929\n",
      "Data columns (total 33 columns):\n",
      " #   Column             Non-Null Count  Dtype   \n",
      "---  ------             --------------  -----   \n",
      " 0   BsmtFin SF 1       2927 non-null   float64 \n",
      " 1   Fireplaces         2927 non-null   int64   \n",
      " 2   Mas Vnr Area       2927 non-null   float64 \n",
      " 3   Years Since Remod  2927 non-null   int64   \n",
      " 4   Full Bath          2927 non-null   int64   \n",
      " 5   Years Before Sale  2927 non-null   int64   \n",
      " 6   1st Flr SF         2927 non-null   int64   \n",
      " 7   Garage Cars        2927 non-null   float64 \n",
      " 8   Gr Liv Area        2927 non-null   int64   \n",
      " 9   Overall Qual       2927 non-null   int64   \n",
      " 10  SalePrice          2927 non-null   int64   \n",
      " 11  MS Zoning          2927 non-null   category\n",
      " 12  Street             2927 non-null   category\n",
      " 13  Lot Shape          2927 non-null   category\n",
      " 14  Land Contour       2927 non-null   category\n",
      " 15  Utilities          2927 non-null   category\n",
      " 16  Lot Config         2927 non-null   category\n",
      " 17  Land Slope         2927 non-null   category\n",
      " 18  Condition 1        2927 non-null   category\n",
      " 19  Condition 2        2927 non-null   category\n",
      " 20  Bldg Type          2927 non-null   category\n",
      " 21  House Style        2927 non-null   category\n",
      " 22  Roof Style         2927 non-null   category\n",
      " 23  Roof Matl          2927 non-null   category\n",
      " 24  Exter Qual         2927 non-null   category\n",
      " 25  Exter Cond         2927 non-null   category\n",
      " 26  Foundation         2927 non-null   category\n",
      " 27  Heating            2927 non-null   category\n",
      " 28  Heating QC         2927 non-null   category\n",
      " 29  Central Air        2927 non-null   category\n",
      " 30  Kitchen Qual       2927 non-null   category\n",
      " 31  Functional         2927 non-null   category\n",
      " 32  Paved Drive        2927 non-null   category\n",
      "dtypes: category(22), float64(3), int64(8)\n",
      "memory usage: 342.3 KB\n"
     ]
    }
   ],
   "source": [
    "name_text_col = data_transform.select_dtypes(include = 'object').columns\n",
    "for col in name_text_col:\n",
    "    data_transform[col] = data_transform[col].astype('category')\n",
    "data_transform.info()"
   ]
  },
  {
   "cell_type": "code",
   "execution_count": 93,
   "id": "b070497c",
   "metadata": {},
   "outputs": [],
   "source": [
    "#tạo mã giả (dummy) và bỏ đi các category column\n",
    "data_transform = pd.concat([data_transform, pd.get_dummies(data_transform.select_dtypes(include = 'category'))],axis = 1)              "
   ]
  },
  {
   "cell_type": "code",
   "execution_count": 94,
   "id": "9d2f8876",
   "metadata": {},
   "outputs": [
    {
     "data": {
      "text/html": [
       "<div>\n",
       "<style scoped>\n",
       "    .dataframe tbody tr th:only-of-type {\n",
       "        vertical-align: middle;\n",
       "    }\n",
       "\n",
       "    .dataframe tbody tr th {\n",
       "        vertical-align: top;\n",
       "    }\n",
       "\n",
       "    .dataframe thead th {\n",
       "        text-align: right;\n",
       "    }\n",
       "</style>\n",
       "<table border=\"1\" class=\"dataframe\">\n",
       "  <thead>\n",
       "    <tr style=\"text-align: right;\">\n",
       "      <th></th>\n",
       "      <th>BsmtFin SF 1</th>\n",
       "      <th>Fireplaces</th>\n",
       "      <th>Mas Vnr Area</th>\n",
       "      <th>Years Since Remod</th>\n",
       "      <th>Full Bath</th>\n",
       "      <th>Years Before Sale</th>\n",
       "      <th>1st Flr SF</th>\n",
       "      <th>Garage Cars</th>\n",
       "      <th>Gr Liv Area</th>\n",
       "      <th>Overall Qual</th>\n",
       "      <th>...</th>\n",
       "      <th>Functional_Maj2</th>\n",
       "      <th>Functional_Min1</th>\n",
       "      <th>Functional_Min2</th>\n",
       "      <th>Functional_Mod</th>\n",
       "      <th>Functional_Sal</th>\n",
       "      <th>Functional_Sev</th>\n",
       "      <th>Functional_Typ</th>\n",
       "      <th>Paved Drive_N</th>\n",
       "      <th>Paved Drive_P</th>\n",
       "      <th>Paved Drive_Y</th>\n",
       "    </tr>\n",
       "  </thead>\n",
       "  <tbody>\n",
       "    <tr>\n",
       "      <th>0</th>\n",
       "      <td>639.0</td>\n",
       "      <td>2</td>\n",
       "      <td>112.0</td>\n",
       "      <td>50</td>\n",
       "      <td>1</td>\n",
       "      <td>50</td>\n",
       "      <td>1656</td>\n",
       "      <td>2.0</td>\n",
       "      <td>1656</td>\n",
       "      <td>6</td>\n",
       "      <td>...</td>\n",
       "      <td>0</td>\n",
       "      <td>0</td>\n",
       "      <td>0</td>\n",
       "      <td>0</td>\n",
       "      <td>0</td>\n",
       "      <td>0</td>\n",
       "      <td>1</td>\n",
       "      <td>0</td>\n",
       "      <td>1</td>\n",
       "      <td>0</td>\n",
       "    </tr>\n",
       "    <tr>\n",
       "      <th>1</th>\n",
       "      <td>468.0</td>\n",
       "      <td>0</td>\n",
       "      <td>0.0</td>\n",
       "      <td>49</td>\n",
       "      <td>1</td>\n",
       "      <td>49</td>\n",
       "      <td>896</td>\n",
       "      <td>1.0</td>\n",
       "      <td>896</td>\n",
       "      <td>5</td>\n",
       "      <td>...</td>\n",
       "      <td>0</td>\n",
       "      <td>0</td>\n",
       "      <td>0</td>\n",
       "      <td>0</td>\n",
       "      <td>0</td>\n",
       "      <td>0</td>\n",
       "      <td>1</td>\n",
       "      <td>0</td>\n",
       "      <td>0</td>\n",
       "      <td>1</td>\n",
       "    </tr>\n",
       "    <tr>\n",
       "      <th>2</th>\n",
       "      <td>923.0</td>\n",
       "      <td>0</td>\n",
       "      <td>108.0</td>\n",
       "      <td>52</td>\n",
       "      <td>1</td>\n",
       "      <td>52</td>\n",
       "      <td>1329</td>\n",
       "      <td>1.0</td>\n",
       "      <td>1329</td>\n",
       "      <td>6</td>\n",
       "      <td>...</td>\n",
       "      <td>0</td>\n",
       "      <td>0</td>\n",
       "      <td>0</td>\n",
       "      <td>0</td>\n",
       "      <td>0</td>\n",
       "      <td>0</td>\n",
       "      <td>1</td>\n",
       "      <td>0</td>\n",
       "      <td>0</td>\n",
       "      <td>1</td>\n",
       "    </tr>\n",
       "    <tr>\n",
       "      <th>3</th>\n",
       "      <td>1065.0</td>\n",
       "      <td>2</td>\n",
       "      <td>0.0</td>\n",
       "      <td>42</td>\n",
       "      <td>2</td>\n",
       "      <td>42</td>\n",
       "      <td>2110</td>\n",
       "      <td>2.0</td>\n",
       "      <td>2110</td>\n",
       "      <td>7</td>\n",
       "      <td>...</td>\n",
       "      <td>0</td>\n",
       "      <td>0</td>\n",
       "      <td>0</td>\n",
       "      <td>0</td>\n",
       "      <td>0</td>\n",
       "      <td>0</td>\n",
       "      <td>1</td>\n",
       "      <td>0</td>\n",
       "      <td>0</td>\n",
       "      <td>1</td>\n",
       "    </tr>\n",
       "    <tr>\n",
       "      <th>4</th>\n",
       "      <td>791.0</td>\n",
       "      <td>1</td>\n",
       "      <td>0.0</td>\n",
       "      <td>12</td>\n",
       "      <td>2</td>\n",
       "      <td>13</td>\n",
       "      <td>928</td>\n",
       "      <td>2.0</td>\n",
       "      <td>1629</td>\n",
       "      <td>5</td>\n",
       "      <td>...</td>\n",
       "      <td>0</td>\n",
       "      <td>0</td>\n",
       "      <td>0</td>\n",
       "      <td>0</td>\n",
       "      <td>0</td>\n",
       "      <td>0</td>\n",
       "      <td>1</td>\n",
       "      <td>0</td>\n",
       "      <td>0</td>\n",
       "      <td>1</td>\n",
       "    </tr>\n",
       "  </tbody>\n",
       "</table>\n",
       "<p>5 rows × 127 columns</p>\n",
       "</div>"
      ],
      "text/plain": [
       "   BsmtFin SF 1  Fireplaces  Mas Vnr Area  Years Since Remod  Full Bath  \\\n",
       "0         639.0           2         112.0                 50          1   \n",
       "1         468.0           0           0.0                 49          1   \n",
       "2         923.0           0         108.0                 52          1   \n",
       "3        1065.0           2           0.0                 42          2   \n",
       "4         791.0           1           0.0                 12          2   \n",
       "\n",
       "   Years Before Sale  1st Flr SF  Garage Cars  Gr Liv Area  Overall Qual  ...  \\\n",
       "0                 50        1656          2.0         1656             6  ...   \n",
       "1                 49         896          1.0          896             5  ...   \n",
       "2                 52        1329          1.0         1329             6  ...   \n",
       "3                 42        2110          2.0         2110             7  ...   \n",
       "4                 13         928          2.0         1629             5  ...   \n",
       "\n",
       "   Functional_Maj2  Functional_Min1  Functional_Min2  Functional_Mod  \\\n",
       "0                0                0                0               0   \n",
       "1                0                0                0               0   \n",
       "2                0                0                0               0   \n",
       "3                0                0                0               0   \n",
       "4                0                0                0               0   \n",
       "\n",
       "   Functional_Sal  Functional_Sev  Functional_Typ  Paved Drive_N  \\\n",
       "0               0               0               1              0   \n",
       "1               0               0               1              0   \n",
       "2               0               0               1              0   \n",
       "3               0               0               1              0   \n",
       "4               0               0               1              0   \n",
       "\n",
       "   Paved Drive_P  Paved Drive_Y  \n",
       "0              1              0  \n",
       "1              0              1  \n",
       "2              0              1  \n",
       "3              0              1  \n",
       "4              0              1  \n",
       "\n",
       "[5 rows x 127 columns]"
      ]
     },
     "execution_count": 94,
     "metadata": {},
     "output_type": "execute_result"
    }
   ],
   "source": [
    "#bỏ đi các category column\n",
    "data_transform = data_transform.drop(name_text_col, axis = 1)\n",
    "data_transform.head()   "
   ]
  },
  {
   "cell_type": "markdown",
   "id": "38bdd481",
   "metadata": {},
   "source": [
    "Update select_features()"
   ]
  },
  {
   "cell_type": "code",
   "execution_count": 40,
   "id": "f08822a6",
   "metadata": {},
   "outputs": [
    {
     "name": "stdout",
     "output_type": "stream",
     "text": [
      "{0: 32906.472551015206, 1: 26508.258499058367, 2: [30967.65734598641, 28943.76712500004], 3: [26810.082403692337, 34411.185516887774, 26336.24693820561], 4: [28070.082740412727, 29586.25658509902, 29057.296453983454, 32432.097767351093], 5: [25567.879749582655, 27612.075173497113, 25661.84883470209, 38214.78926430373, 25928.18741506125]}\n"
     ]
    }
   ],
   "source": [
    "def transform_features(df):\n",
    "    seri_null_counts = df.isnull().sum()\n",
    "    index_null_than5 = seri_null_counts[seri_null_counts>(len(sale_houses)/20)].index\n",
    "    drop_null_than5 = df.drop(columns = index_null_than5, axis = 1)\n",
    "    \n",
    "    text_null_counts = drop_null_than5.select_dtypes(include = 'object').isnull().sum()\n",
    "    text_null_index = text_null_counts[text_null_counts > 0].index\n",
    "    data = drop_null_than5.drop(columns =text_null_index, axis = 1 )\n",
    "    \n",
    "    cols_num = data.select_dtypes(include = ['float','int']).columns\n",
    "    data.loc[:,cols_num] = data.loc[:,cols_num].fillna(data.loc[:,cols_num].mean())\n",
    "    \n",
    "\n",
    "    data['Years Before Sale'] = data['Yr Sold'] - data['Year Built']\n",
    "    age_error = data['Years Before Sale'][data['Years Before Sale']<0].index.to_list()\n",
    "    data['Years Since Remod'] = data['Yr Sold'] - data['Year Remod/Add']\n",
    "    remod_error = data['Years Since Remod'][data['Years Since Remod'] <0].index.to_list()\n",
    "    list_error = list(set(age_error + remod_error))\n",
    "    \n",
    "\n",
    "    data = data.drop(list_error, axis =0)\n",
    "    data = data.drop([\"Year Built\", \"Year Remod/Add\",\"PID\",\"Order\",\"Mo Sold\",\"Sale Condition\",\"Sale Type\",\"Yr Sold\"],axis = 1)\n",
    "    return data\n",
    "\n",
    "def select_features(df, corr_threshold = 0.4 , num_unique = 10):\n",
    "    import seaborn as sns\n",
    "    data_transform = df.copy()\n",
    "    seri_corr = np.abs(data_transform.corr()['SalePrice'])\n",
    "    corr_strong = seri_corr[seri_corr>corr_threshold].sort_values()\n",
    "    max_corr = data_transform.loc[:,corr_strong.index].corr()\n",
    "    #print(sns.heatmap(max_corr))\n",
    "    \n",
    "    name_numeric_cols = corr_strong.index\n",
    "    name_numeric_cols = name_numeric_cols.drop(['Garage Area','Total Bsmt SF','TotRms AbvGrd'])\n",
    "    name_text_cols = data_transform.select_dtypes(include = 'object').columns\n",
    "    count_unique = data_transform[name_text_cols].apply(lambda col: len(col.unique()))\n",
    "    name_text_cols = name_text_cols.drop(count_unique[count_unique>num_unique].index)\n",
    "    \n",
    "    name_cols_full = name_numeric_cols.to_list()  + name_text_cols.to_list()\n",
    "    data_transform = data_transform[name_cols_full]\n",
    "        \n",
    "    #tạo mã giả (dummy)\n",
    "    data_transform = pd.concat([data_transform, \n",
    "                            pd.get_dummies(data_transform.select_dtypes(include = 'object'))],axis = 1) \n",
    "    \n",
    "    #bỏ đi các category column\n",
    "    data_transform = data_transform.drop(name_text_cols, axis = 1)\n",
    "    \n",
    "    \n",
    "    return data_transform\n",
    "\n",
    "def train_and_test(df,k):\n",
    "    from sklearn.metrics import mean_squared_error\n",
    "    '''\n",
    "    Nếu chia data thành 2 tệp train, test theo % cố định(ví dụ train: 0 > 1460,test: 1460 > hết) ko phải khôn ngoan , bởi vì:\n",
    "    - chia như vậy ta thực sự không biết khoảng dữ liệu nào thực sự tốt và tối ưu cho việc train model.\n",
    "    - Giải pháp là sử dụng xác thực chéo (cross-validation)\n",
    "    '''\n",
    "    if k == 0 :\n",
    "        train = df[0:1460].copy()\n",
    "        test = df[1460:].copy()\n",
    "\n",
    "        X_train = train.drop(['SalePrice'], axis = 1)\n",
    "        y_train = train['SalePrice']\n",
    "\n",
    "        lr = LinearRegression()\n",
    "        lr.fit(X_train, y_train)\n",
    "\n",
    "        X_test = test.drop(['SalePrice'], axis = 1)\n",
    "        y_test = test['SalePrice']\n",
    "\n",
    "        y_predict = lr.predict(X_test)\n",
    "\n",
    "        mse_test = mean_squared_error(y_predict,y_test)\n",
    "        rmse_test = np.sqrt(mse_test)\n",
    "        return rmse_test\n",
    "    elif k ==1 :\n",
    "        random_df = df.sample(frac = 1)\n",
    "        train = random_df[0:1460].copy()\n",
    "        test = random_df[1460:].copy()\n",
    "\n",
    "        X_train = train.drop(['SalePrice'], axis = 1)\n",
    "        y_train = train['SalePrice']\n",
    "\n",
    "        lr = LinearRegression()\n",
    "        lr.fit(X_train, y_train)\n",
    "\n",
    "        X_test = test.drop(['SalePrice'], axis = 1)\n",
    "        y_test = test['SalePrice']\n",
    "\n",
    "        y_predict = lr.predict(X_test)\n",
    "\n",
    "        mse_test = mean_squared_error(y_predict,y_test)\n",
    "        rmse_test = np.sqrt(mse_test)\n",
    "        return rmse_test\n",
    "\n",
    "    elif k >=2:\n",
    "        features = df.columns.drop(['SalePrice'])\n",
    "        from sklearn.model_selection import KFold\n",
    "        kf = KFold(n_splits = k, shuffle = True)\n",
    "        list_rmse = []\n",
    "        for train_index, test_index in kf.split(df):\n",
    "            train = df.iloc[train_index,:]\n",
    "            test = df.iloc[test_index,:]\n",
    "            lr = LinearRegression()\n",
    "            lr.fit(train[features], train['SalePrice'])\n",
    "            y_predict = lr.predict(test[features])\n",
    "            rmse = mean_squared_error(y_predict,test['SalePrice'])**(1/2)\n",
    "            list_rmse.append(rmse)  \n",
    "        return list_rmse\n",
    "\n",
    "sale_houses = pd.read_csv('AmesHousing.txt',delimiter = '\\t')\n",
    "trans_data = transform_features(sale_houses)\n",
    "df_filtered = select_features(trans_data, 0.4,10)\n",
    "\n",
    "dict_rmse = {}\n",
    "for k in range(0,6):\n",
    "    dict_rmse[k] = train_and_test(df_filtered,k)\n",
    "    \n",
    "print(dict_rmse)"
   ]
  },
  {
   "cell_type": "code",
   "execution_count": null,
   "id": "644ac608",
   "metadata": {},
   "outputs": [],
   "source": []
  }
 ],
 "metadata": {
  "kernelspec": {
   "display_name": "Python 3 (ipykernel)",
   "language": "python",
   "name": "python3"
  },
  "language_info": {
   "codemirror_mode": {
    "name": "ipython",
    "version": 3
   },
   "file_extension": ".py",
   "mimetype": "text/x-python",
   "name": "python",
   "nbconvert_exporter": "python",
   "pygments_lexer": "ipython3",
   "version": "3.9.7"
  }
 },
 "nbformat": 4,
 "nbformat_minor": 5
}
